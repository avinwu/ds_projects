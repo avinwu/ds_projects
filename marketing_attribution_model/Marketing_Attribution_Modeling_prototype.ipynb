{
 "cells": [
  {
   "cell_type": "markdown",
   "id": "018e0495",
   "metadata": {},
   "source": [
    "**Note** - This is a basic prototype from brainstorming sessions, detailed project will be updated soon!!"
   ]
  },
  {
   "cell_type": "code",
   "execution_count": null,
   "id": "9e75fe0a",
   "metadata": {},
   "outputs": [],
   "source": [
    "import pandas as pd\n",
    "\n",
    "# Sample data: a list of customer journeys\n",
    "data = {\n",
    "    'customer_id': [1, 1, 1, 2, 2, 3, 3, 3, 3],\n",
    "    'touchpoint': ['Google Ad', 'Organic Search', 'Email', 'Social Media', 'Direct', 'Google Ad', 'Email', 'Social Media', 'Direct'],\n",
    "    'conversion': [0, 0, 1, 0, 1, 0, 0, 0, 1]\n",
    "}\n",
    "\n",
    "df = pd.DataFrame(data)\n",
    "\n",
    "# Calculate the number of touchpoints per customer\n",
    "df['touchpoint_count'] = df.groupby('customer_id')['touchpoint'].transform('count')\n",
    "\n",
    "# Calculate linear attribution credit\n",
    "df['credit'] = df['conversion'] / df['touchpoint_count']\n",
    "\n",
    "# Sum the credit for each touchpoint\n",
    "attribution = df.groupby('touchpoint')['credit'].sum().reset_index()\n",
    "\n",
    "print(attribution)\n"
   ]
  },
  {
   "cell_type": "markdown",
   "id": "03bd3014",
   "metadata": {},
   "source": [
    "This code calculates linear attribution by dividing the conversion credit equally among all touchpoints in each customer's journey and then sums the credit for each touchpoint across all journeys."
   ]
  },
  {
   "cell_type": "code",
   "execution_count": null,
   "id": "e065dc44",
   "metadata": {},
   "outputs": [],
   "source": []
  }
 ],
 "metadata": {
  "kernelspec": {
   "display_name": "Python 3 (ipykernel)",
   "language": "python",
   "name": "python3"
  },
  "language_info": {
   "codemirror_mode": {
    "name": "ipython",
    "version": 3
   },
   "file_extension": ".py",
   "mimetype": "text/x-python",
   "name": "python",
   "nbconvert_exporter": "python",
   "pygments_lexer": "ipython3",
   "version": "3.11.5"
  }
 },
 "nbformat": 4,
 "nbformat_minor": 5
}
