{
 "cells": [
  {
   "cell_type": "markdown",
   "id": "f5e42e46",
   "metadata": {},
   "source": [
    "### FastAPI"
   ]
  },
  {
   "cell_type": "code",
   "execution_count": 14,
   "id": "1560c3b0",
   "metadata": {},
   "outputs": [
    {
     "name": "stdout",
     "output_type": "stream",
     "text": [
      "{'predicted_price': [425280.0]}\n"
     ]
    }
   ],
   "source": [
    "# FastAPI URL\n",
    "# OpenAPI - http://localhost:8000/docs\n",
    "\n",
    "import requests\n",
    "\n",
    "# url = \"http://127.0.0.1:8000/predict\"\n",
    "url = \"http://localhost:8000/predict\"\n",
    "data = [{\n",
    "    \"longitude\": -122.23,\n",
    "    \"latitude\": 37.88,\n",
    "    \"housing_median_age\": 41.0,\n",
    "    \"total_rooms\": 880.0,\n",
    "    \"total_bedrooms\": 129.0,\n",
    "    \"population\": 322.0,\n",
    "    \"households\": 126.0,\n",
    "    \"median_income\": 8.3252,\n",
    "    \"ocean_proximity\": \"NEAR BAY\"\n",
    "}]\n",
    "\n",
    "response = requests.post(url, json=data)\n",
    "print(response.json())"
   ]
  },
  {
   "cell_type": "markdown",
   "id": "be8b1de8",
   "metadata": {},
   "source": [
    "### FastAPI"
   ]
  },
  {
   "cell_type": "code",
   "execution_count": 15,
   "id": "e719785c",
   "metadata": {},
   "outputs": [
    {
     "name": "stdout",
     "output_type": "stream",
     "text": [
      "{'predicted_price': [425280.0]}\n"
     ]
    }
   ],
   "source": [
    "# Start Docker Desktop Service\n",
    "# Docker Build Command: docker build -t housing-predictor .\n",
    "# Docker Run Command  : docker run -p 80:80 housing-predictor\n",
    "# OpenAPI - http://localhost:80/docs\n",
    "        \n",
    "url = \"http://localhost:80/predict\"\n",
    "data = [{\n",
    "    \"longitude\": -122.23,\n",
    "    \"latitude\": 37.88,\n",
    "    \"housing_median_age\": 41.0,\n",
    "    \"total_rooms\": 880.0,\n",
    "    \"total_bedrooms\": 129.0,\n",
    "    \"population\": 322.0,\n",
    "    \"households\": 126.0,\n",
    "    \"median_income\": 8.3252,\n",
    "    \"ocean_proximity\": \"NEAR BAY\"\n",
    "}]\n",
    "\n",
    "response = requests.post(url, json=data)\n",
    "print(response.json())"
   ]
  },
  {
   "cell_type": "code",
   "execution_count": null,
   "id": "4a96aba4",
   "metadata": {},
   "outputs": [],
   "source": []
  }
 ],
 "metadata": {
  "kernelspec": {
   "display_name": "Python 3 (ipykernel)",
   "language": "python",
   "name": "python3"
  },
  "language_info": {
   "codemirror_mode": {
    "name": "ipython",
    "version": 3
   },
   "file_extension": ".py",
   "mimetype": "text/x-python",
   "name": "python",
   "nbconvert_exporter": "python",
   "pygments_lexer": "ipython3",
   "version": "3.11.5"
  }
 },
 "nbformat": 4,
 "nbformat_minor": 5
}
