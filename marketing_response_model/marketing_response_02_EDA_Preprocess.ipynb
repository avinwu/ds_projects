{
 "cells": [
  {
   "cell_type": "code",
   "execution_count": null,
   "metadata": {},
   "outputs": [],
   "source": []
  },
  {
   "cell_type": "markdown",
   "metadata": {},
   "source": [
    "## Processing Steps\n",
    "- Separte variables by Object, encode as categorical variables.\n",
    "- Separate DateTime variables from Object Type and split into Year, Month, Day, Hour, Min - **LabelEncode**\n",
    "- Separate Float variables and treat them as continuous.\n",
    "- Separate Integer variables and verify if any of those are categorical, apply binning if categorical."
   ]
  },
  {
   "cell_type": "code",
   "execution_count": 1,
   "metadata": {},
   "outputs": [],
   "source": [
    "import warnings\n",
    "warnings.filterwarnings('ignore')\n",
    "import pandas as pd\n",
    "import numpy as np\n",
    "import matplotlib.pyplot as plt\n",
    "import seaborn as sns\n",
    "import pickle\n",
    "sDir = '/home/pabhijit/data/springleaf/'"
   ]
  },
  {
   "cell_type": "code",
   "execution_count": 2,
   "metadata": {},
   "outputs": [],
   "source": [
    "from sklearn.impute import SimpleImputer\n",
    "\n",
    "def imputeMissingFeatures(df_in, impStrgy):\n",
    "    imp = SimpleImputer(missing_values=np.nan, strategy=impStrgy)\n",
    "    arrImputedVal = imp.fit_transform(df_in)\n",
    "\n",
    "    df_out = pd.DataFrame(arrImputedVal)\n",
    "    df_out.columns = df_in.columns\n",
    "    #df_out.shape\n",
    "    return(df_out)"
   ]
  },
  {
   "cell_type": "code",
   "execution_count": 3,
   "metadata": {},
   "outputs": [
    {
     "data": {
      "text/plain": [
       "(145231, 1934)"
      ]
     },
     "execution_count": 3,
     "metadata": {},
     "output_type": "execute_result"
    }
   ],
   "source": [
    "# Load Train Data\n",
    "df_train = pd.read_pickle(sDir + 'step01_train.pkl')\n",
    "df_train.shape"
   ]
  },
  {
   "cell_type": "code",
   "execution_count": 4,
   "metadata": {},
   "outputs": [
    {
     "data": {
      "text/plain": [
       "(145232, 1933)"
      ]
     },
     "execution_count": 4,
     "metadata": {},
     "output_type": "execute_result"
    }
   ],
   "source": [
    "# Load Test Data\n",
    "df_test = pd.read_pickle(sDir + 'step01_test.pkl')\n",
    "df_test.shape"
   ]
  },
  {
   "cell_type": "code",
   "execution_count": 5,
   "metadata": {},
   "outputs": [
    {
     "name": "stdout",
     "output_type": "stream",
     "text": [
      "(145231, 1933)\n",
      "(145231, 1)\n",
      "(145232, 1933)\n"
     ]
    }
   ],
   "source": [
    "X = df_train.drop('target', axis=1)\n",
    "y = df_train[['target']]\n",
    "X_test = df_test.copy()\n",
    "print(X.shape)\n",
    "print(y.shape)\n",
    "print(X_test.shape)"
   ]
  },
  {
   "cell_type": "code",
   "execution_count": 6,
   "metadata": {},
   "outputs": [
    {
     "name": "stdout",
     "output_type": "stream",
     "text": [
      "X_train (116184, 1933)\n",
      "X_valid (29047, 1933)\n",
      "y_train (116184, 1)\n",
      "y_valid (29047, 1)\n"
     ]
    }
   ],
   "source": [
    "from sklearn.model_selection import train_test_split\n",
    "\n",
    "# Break off validation set from training data\n",
    "X_train, X_valid, y_train, y_valid = train_test_split(X, y, train_size=0.8, test_size=0.2, random_state=0)\n",
    "\n",
    "print('X_train', X_train.shape)\n",
    "print('X_valid', X_valid.shape)\n",
    "print('y_train', y_train.shape)\n",
    "print('y_valid', y_valid.shape)"
   ]
  },
  {
   "cell_type": "code",
   "execution_count": 7,
   "metadata": {},
   "outputs": [
    {
     "data": {
      "text/plain": [
       "int8       568\n",
       "float16    434\n",
       "int32      429\n",
       "int16      408\n",
       "object      51\n",
       "float32     40\n",
       "float64      3\n",
       "dtype: int64"
      ]
     },
     "execution_count": 7,
     "metadata": {},
     "output_type": "execute_result"
    }
   ],
   "source": [
    "X_train.dtypes.value_counts()"
   ]
  },
  {
   "cell_type": "code",
   "execution_count": 8,
   "metadata": {},
   "outputs": [
    {
     "data": {
      "text/html": [
       "<div>\n",
       "<style scoped>\n",
       "    .dataframe tbody tr th:only-of-type {\n",
       "        vertical-align: middle;\n",
       "    }\n",
       "\n",
       "    .dataframe tbody tr th {\n",
       "        vertical-align: top;\n",
       "    }\n",
       "\n",
       "    .dataframe thead th {\n",
       "        text-align: right;\n",
       "    }\n",
       "</style>\n",
       "<table border=\"1\" class=\"dataframe\">\n",
       "  <thead>\n",
       "    <tr style=\"text-align: right;\">\n",
       "      <th></th>\n",
       "      <th>ID</th>\n",
       "      <th>VAR_0001</th>\n",
       "      <th>VAR_0002</th>\n",
       "      <th>VAR_0003</th>\n",
       "      <th>VAR_0004</th>\n",
       "      <th>VAR_0005</th>\n",
       "      <th>VAR_0006</th>\n",
       "      <th>VAR_0007</th>\n",
       "      <th>VAR_0008</th>\n",
       "      <th>VAR_0009</th>\n",
       "      <th>...</th>\n",
       "      <th>VAR_1925</th>\n",
       "      <th>VAR_1926</th>\n",
       "      <th>VAR_1927</th>\n",
       "      <th>VAR_1928</th>\n",
       "      <th>VAR_1929</th>\n",
       "      <th>VAR_1930</th>\n",
       "      <th>VAR_1931</th>\n",
       "      <th>VAR_1932</th>\n",
       "      <th>VAR_1933</th>\n",
       "      <th>VAR_1934</th>\n",
       "    </tr>\n",
       "  </thead>\n",
       "  <tbody>\n",
       "    <tr>\n",
       "      <th>1438</th>\n",
       "      <td>2794</td>\n",
       "      <td>R</td>\n",
       "      <td>139</td>\n",
       "      <td>62</td>\n",
       "      <td>2156</td>\n",
       "      <td>B</td>\n",
       "      <td>0.0</td>\n",
       "      <td>0.0</td>\n",
       "      <td>False</td>\n",
       "      <td>False</td>\n",
       "      <td>...</td>\n",
       "      <td>0</td>\n",
       "      <td>98</td>\n",
       "      <td>98</td>\n",
       "      <td>998</td>\n",
       "      <td>999999998</td>\n",
       "      <td>998</td>\n",
       "      <td>998</td>\n",
       "      <td>9998</td>\n",
       "      <td>9998</td>\n",
       "      <td>BRANCH</td>\n",
       "    </tr>\n",
       "    <tr>\n",
       "      <th>70125</th>\n",
       "      <td>140193</td>\n",
       "      <td>R</td>\n",
       "      <td>116</td>\n",
       "      <td>152</td>\n",
       "      <td>1300</td>\n",
       "      <td>B</td>\n",
       "      <td>0.0</td>\n",
       "      <td>0.0</td>\n",
       "      <td>False</td>\n",
       "      <td>False</td>\n",
       "      <td>...</td>\n",
       "      <td>0</td>\n",
       "      <td>98</td>\n",
       "      <td>98</td>\n",
       "      <td>998</td>\n",
       "      <td>999999998</td>\n",
       "      <td>998</td>\n",
       "      <td>998</td>\n",
       "      <td>9998</td>\n",
       "      <td>9998</td>\n",
       "      <td>BRANCH</td>\n",
       "    </tr>\n",
       "    <tr>\n",
       "      <th>13800</th>\n",
       "      <td>27366</td>\n",
       "      <td>H</td>\n",
       "      <td>53</td>\n",
       "      <td>163</td>\n",
       "      <td>2984</td>\n",
       "      <td>B</td>\n",
       "      <td>0.0</td>\n",
       "      <td>0.0</td>\n",
       "      <td>False</td>\n",
       "      <td>False</td>\n",
       "      <td>...</td>\n",
       "      <td>0</td>\n",
       "      <td>98</td>\n",
       "      <td>98</td>\n",
       "      <td>998</td>\n",
       "      <td>999999998</td>\n",
       "      <td>998</td>\n",
       "      <td>998</td>\n",
       "      <td>9998</td>\n",
       "      <td>9998</td>\n",
       "      <td>BRANCH</td>\n",
       "    </tr>\n",
       "    <tr>\n",
       "      <th>7676</th>\n",
       "      <td>15140</td>\n",
       "      <td>R</td>\n",
       "      <td>104</td>\n",
       "      <td>41</td>\n",
       "      <td>1657</td>\n",
       "      <td>C</td>\n",
       "      <td>0.0</td>\n",
       "      <td>0.0</td>\n",
       "      <td>False</td>\n",
       "      <td>False</td>\n",
       "      <td>...</td>\n",
       "      <td>0</td>\n",
       "      <td>98</td>\n",
       "      <td>98</td>\n",
       "      <td>998</td>\n",
       "      <td>999999998</td>\n",
       "      <td>998</td>\n",
       "      <td>998</td>\n",
       "      <td>9998</td>\n",
       "      <td>9998</td>\n",
       "      <td>BRANCH</td>\n",
       "    </tr>\n",
       "    <tr>\n",
       "      <th>23219</th>\n",
       "      <td>46216</td>\n",
       "      <td>H</td>\n",
       "      <td>60</td>\n",
       "      <td>72</td>\n",
       "      <td>5975</td>\n",
       "      <td>C</td>\n",
       "      <td>0.0</td>\n",
       "      <td>0.0</td>\n",
       "      <td>False</td>\n",
       "      <td>False</td>\n",
       "      <td>...</td>\n",
       "      <td>0</td>\n",
       "      <td>98</td>\n",
       "      <td>98</td>\n",
       "      <td>998</td>\n",
       "      <td>999999998</td>\n",
       "      <td>998</td>\n",
       "      <td>998</td>\n",
       "      <td>9998</td>\n",
       "      <td>9998</td>\n",
       "      <td>IAPS</td>\n",
       "    </tr>\n",
       "  </tbody>\n",
       "</table>\n",
       "<p>5 rows × 1933 columns</p>\n",
       "</div>"
      ],
      "text/plain": [
       "           ID VAR_0001  VAR_0002  VAR_0003  VAR_0004 VAR_0005  VAR_0006  \\\n",
       "1438     2794        R       139        62      2156        B       0.0   \n",
       "70125  140193        R       116       152      1300        B       0.0   \n",
       "13800   27366        H        53       163      2984        B       0.0   \n",
       "7676    15140        R       104        41      1657        C       0.0   \n",
       "23219   46216        H        60        72      5975        C       0.0   \n",
       "\n",
       "       VAR_0007 VAR_0008 VAR_0009  ... VAR_1925 VAR_1926 VAR_1927  VAR_1928  \\\n",
       "1438        0.0    False    False  ...        0       98       98       998   \n",
       "70125       0.0    False    False  ...        0       98       98       998   \n",
       "13800       0.0    False    False  ...        0       98       98       998   \n",
       "7676        0.0    False    False  ...        0       98       98       998   \n",
       "23219       0.0    False    False  ...        0       98       98       998   \n",
       "\n",
       "        VAR_1929  VAR_1930  VAR_1931  VAR_1932  VAR_1933  VAR_1934  \n",
       "1438   999999998       998       998      9998      9998    BRANCH  \n",
       "70125  999999998       998       998      9998      9998    BRANCH  \n",
       "13800  999999998       998       998      9998      9998    BRANCH  \n",
       "7676   999999998       998       998      9998      9998    BRANCH  \n",
       "23219  999999998       998       998      9998      9998      IAPS  \n",
       "\n",
       "[5 rows x 1933 columns]"
      ]
     },
     "execution_count": 8,
     "metadata": {},
     "output_type": "execute_result"
    }
   ],
   "source": [
    "X_train.head()"
   ]
  },
  {
   "cell_type": "markdown",
   "metadata": {},
   "source": [
    "### Missing Values"
   ]
  },
  {
   "cell_type": "code",
   "execution_count": 9,
   "metadata": {},
   "outputs": [],
   "source": [
    "null_cols = X_train.columns[X_train.isnull().any()]\n",
    "s_miss_cols = X_train[null_cols].isnull().sum()/len(X_train) * 100"
   ]
  },
  {
   "cell_type": "code",
   "execution_count": 13,
   "metadata": {},
   "outputs": [
    {
     "data": {
      "text/plain": [
       "pandas.core.frame.DataFrame"
      ]
     },
     "execution_count": 13,
     "metadata": {},
     "output_type": "execute_result"
    }
   ],
   "source": [
    "type(X_train)"
   ]
  },
  {
   "cell_type": "code",
   "execution_count": 10,
   "metadata": {
    "scrolled": true
   },
   "outputs": [
    {
     "data": {
      "text/plain": [
       "VAR_0156     95.951250\n",
       "VAR_0157     99.366522\n",
       "VAR_0158     98.549714\n",
       "VAR_0159     95.951250\n",
       "VAR_0166     90.206913\n",
       "VAR_0167     98.240722\n",
       "VAR_0168     92.621187\n",
       "VAR_0169     90.206913\n",
       "VAR_0176     87.912277\n",
       "VAR_0177     97.691593\n",
       "VAR_0178     91.673552\n",
       "VAR_0179     87.912277\n",
       "VAR_0205     98.418887\n",
       "VAR_0206     98.381877\n",
       "VAR_0207    100.000000\n",
       "VAR_0208     86.639296\n",
       "VAR_0209     93.488776\n",
       "VAR_0210     86.639296\n",
       "VAR_0211     86.639296\n",
       "VAR_0213    100.000000\n",
       "VAR_0214     99.993114\n",
       "VAR_0840    100.000000\n",
       "dtype: float64"
      ]
     },
     "execution_count": 10,
     "metadata": {},
     "output_type": "execute_result"
    }
   ],
   "source": [
    "# Variables with 85% and more missing values, these can be dropped.\n",
    "s_drop_mis_cols = s_miss_cols[s_miss_cols>=85]\n",
    "s_drop_mis_cols"
   ]
  },
  {
   "cell_type": "markdown",
   "metadata": {},
   "source": [
    "#### Drop Missing Variables"
   ]
  },
  {
   "cell_type": "code",
   "execution_count": 14,
   "metadata": {},
   "outputs": [
    {
     "name": "stdout",
     "output_type": "stream",
     "text": [
      "Number of variables reduced to :  1911\n"
     ]
    }
   ],
   "source": [
    "X_train.drop(s_drop_mis_cols.index, axis=1, inplace=True)\n",
    "print('Number of variables reduced to : ', X_train.shape[1])"
   ]
  },
  {
   "cell_type": "markdown",
   "metadata": {},
   "source": [
    "#### Impute Missing Variables - Object Type\n",
    "Impute Missing variables with respective most frequent value."
   ]
  },
  {
   "cell_type": "code",
   "execution_count": 41,
   "metadata": {},
   "outputs": [
    {
     "data": {
      "text/plain": [
       "(116184, 38)"
      ]
     },
     "execution_count": 41,
     "metadata": {},
     "output_type": "execute_result"
    }
   ],
   "source": [
    "X_train_obj = X_train.select_dtypes(include='object')\n",
    "X_train_obj.shape"
   ]
  },
  {
   "cell_type": "code",
   "execution_count": 42,
   "metadata": {},
   "outputs": [
    {
     "data": {
      "text/html": [
       "<div>\n",
       "<style scoped>\n",
       "    .dataframe tbody tr th:only-of-type {\n",
       "        vertical-align: middle;\n",
       "    }\n",
       "\n",
       "    .dataframe tbody tr th {\n",
       "        vertical-align: top;\n",
       "    }\n",
       "\n",
       "    .dataframe thead th {\n",
       "        text-align: right;\n",
       "    }\n",
       "</style>\n",
       "<table border=\"1\" class=\"dataframe\">\n",
       "  <thead>\n",
       "    <tr style=\"text-align: right;\">\n",
       "      <th></th>\n",
       "      <th>VAR_0001</th>\n",
       "      <th>VAR_0005</th>\n",
       "      <th>VAR_0008</th>\n",
       "      <th>VAR_0009</th>\n",
       "      <th>VAR_0010</th>\n",
       "      <th>VAR_0011</th>\n",
       "      <th>VAR_0012</th>\n",
       "      <th>VAR_0043</th>\n",
       "      <th>VAR_0044</th>\n",
       "      <th>VAR_0073</th>\n",
       "      <th>...</th>\n",
       "      <th>VAR_0325</th>\n",
       "      <th>VAR_0342</th>\n",
       "      <th>VAR_0352</th>\n",
       "      <th>VAR_0353</th>\n",
       "      <th>VAR_0354</th>\n",
       "      <th>VAR_0404</th>\n",
       "      <th>VAR_0466</th>\n",
       "      <th>VAR_0467</th>\n",
       "      <th>VAR_0493</th>\n",
       "      <th>VAR_1934</th>\n",
       "    </tr>\n",
       "  </thead>\n",
       "  <tbody>\n",
       "    <tr>\n",
       "      <td>1438</td>\n",
       "      <td>R</td>\n",
       "      <td>B</td>\n",
       "      <td>False</td>\n",
       "      <td>False</td>\n",
       "      <td>False</td>\n",
       "      <td>False</td>\n",
       "      <td>False</td>\n",
       "      <td>False</td>\n",
       "      <td>[]</td>\n",
       "      <td>NaN</td>\n",
       "      <td>...</td>\n",
       "      <td>R</td>\n",
       "      <td>CE</td>\n",
       "      <td>U</td>\n",
       "      <td>R</td>\n",
       "      <td>U</td>\n",
       "      <td>-1</td>\n",
       "      <td>-1</td>\n",
       "      <td>-1</td>\n",
       "      <td>-1</td>\n",
       "      <td>BRANCH</td>\n",
       "    </tr>\n",
       "    <tr>\n",
       "      <td>70125</td>\n",
       "      <td>R</td>\n",
       "      <td>B</td>\n",
       "      <td>False</td>\n",
       "      <td>False</td>\n",
       "      <td>False</td>\n",
       "      <td>False</td>\n",
       "      <td>False</td>\n",
       "      <td>False</td>\n",
       "      <td>[]</td>\n",
       "      <td>NaN</td>\n",
       "      <td>...</td>\n",
       "      <td>H</td>\n",
       "      <td>FF</td>\n",
       "      <td>R</td>\n",
       "      <td>R</td>\n",
       "      <td>U</td>\n",
       "      <td>-1</td>\n",
       "      <td>-1</td>\n",
       "      <td>-1</td>\n",
       "      <td>-1</td>\n",
       "      <td>BRANCH</td>\n",
       "    </tr>\n",
       "    <tr>\n",
       "      <td>13800</td>\n",
       "      <td>H</td>\n",
       "      <td>B</td>\n",
       "      <td>False</td>\n",
       "      <td>False</td>\n",
       "      <td>False</td>\n",
       "      <td>False</td>\n",
       "      <td>False</td>\n",
       "      <td>False</td>\n",
       "      <td>[]</td>\n",
       "      <td>NaN</td>\n",
       "      <td>...</td>\n",
       "      <td>S</td>\n",
       "      <td>-1</td>\n",
       "      <td>O</td>\n",
       "      <td>O</td>\n",
       "      <td>O</td>\n",
       "      <td>-1</td>\n",
       "      <td>-1</td>\n",
       "      <td>-1</td>\n",
       "      <td>-1</td>\n",
       "      <td>BRANCH</td>\n",
       "    </tr>\n",
       "    <tr>\n",
       "      <td>7676</td>\n",
       "      <td>R</td>\n",
       "      <td>C</td>\n",
       "      <td>False</td>\n",
       "      <td>False</td>\n",
       "      <td>False</td>\n",
       "      <td>False</td>\n",
       "      <td>False</td>\n",
       "      <td>False</td>\n",
       "      <td>[]</td>\n",
       "      <td>NaN</td>\n",
       "      <td>...</td>\n",
       "      <td>S</td>\n",
       "      <td>ED</td>\n",
       "      <td>U</td>\n",
       "      <td>U</td>\n",
       "      <td>U</td>\n",
       "      <td>-1</td>\n",
       "      <td>-1</td>\n",
       "      <td>-1</td>\n",
       "      <td>-1</td>\n",
       "      <td>BRANCH</td>\n",
       "    </tr>\n",
       "    <tr>\n",
       "      <td>23219</td>\n",
       "      <td>H</td>\n",
       "      <td>C</td>\n",
       "      <td>False</td>\n",
       "      <td>False</td>\n",
       "      <td>False</td>\n",
       "      <td>False</td>\n",
       "      <td>False</td>\n",
       "      <td>False</td>\n",
       "      <td>[]</td>\n",
       "      <td>NaN</td>\n",
       "      <td>...</td>\n",
       "      <td>S</td>\n",
       "      <td>-1</td>\n",
       "      <td>U</td>\n",
       "      <td>O</td>\n",
       "      <td>U</td>\n",
       "      <td>CONTACT</td>\n",
       "      <td>-1</td>\n",
       "      <td>-1</td>\n",
       "      <td>-1</td>\n",
       "      <td>IAPS</td>\n",
       "    </tr>\n",
       "  </tbody>\n",
       "</table>\n",
       "<p>5 rows × 38 columns</p>\n",
       "</div>"
      ],
      "text/plain": [
       "      VAR_0001 VAR_0005 VAR_0008 VAR_0009 VAR_0010 VAR_0011 VAR_0012 VAR_0043  \\\n",
       "1438         R        B    False    False    False    False    False    False   \n",
       "70125        R        B    False    False    False    False    False    False   \n",
       "13800        H        B    False    False    False    False    False    False   \n",
       "7676         R        C    False    False    False    False    False    False   \n",
       "23219        H        C    False    False    False    False    False    False   \n",
       "\n",
       "      VAR_0044 VAR_0073  ... VAR_0325 VAR_0342 VAR_0352 VAR_0353 VAR_0354  \\\n",
       "1438        []      NaN  ...        R       CE        U        R        U   \n",
       "70125       []      NaN  ...        H       FF        R        R        U   \n",
       "13800       []      NaN  ...        S       -1        O        O        O   \n",
       "7676        []      NaN  ...        S       ED        U        U        U   \n",
       "23219       []      NaN  ...        S       -1        U        O        U   \n",
       "\n",
       "      VAR_0404 VAR_0466 VAR_0467 VAR_0493 VAR_1934  \n",
       "1438        -1       -1       -1       -1   BRANCH  \n",
       "70125       -1       -1       -1       -1   BRANCH  \n",
       "13800       -1       -1       -1       -1   BRANCH  \n",
       "7676        -1       -1       -1       -1   BRANCH  \n",
       "23219  CONTACT       -1       -1       -1     IAPS  \n",
       "\n",
       "[5 rows x 38 columns]"
      ]
     },
     "execution_count": 42,
     "metadata": {},
     "output_type": "execute_result"
    }
   ],
   "source": [
    "X_train_obj.head()"
   ]
  },
  {
   "cell_type": "code",
   "execution_count": 43,
   "metadata": {},
   "outputs": [
    {
     "name": "stdout",
     "output_type": "stream",
     "text": [
      "Number of object features with missing values : 35\n"
     ]
    }
   ],
   "source": [
    "print('Number of object features with missing values :', len(X_train_obj.columns[X_train_obj.isnull().any()]))"
   ]
  },
  {
   "cell_type": "code",
   "execution_count": 44,
   "metadata": {},
   "outputs": [
    {
     "data": {
      "text/plain": [
       "(116184, 38)"
      ]
     },
     "execution_count": 44,
     "metadata": {},
     "output_type": "execute_result"
    }
   ],
   "source": [
    "X_train_obj_prcd = imputeMissingFeatures(X_train_obj, 'most_frequent')\n",
    "X_train_obj_prcd.shape"
   ]
  },
  {
   "cell_type": "code",
   "execution_count": 47,
   "metadata": {},
   "outputs": [
    {
     "name": "stdout",
     "output_type": "stream",
     "text": [
      "Number of object features with missing values : 0\n"
     ]
    }
   ],
   "source": [
    "print('Number of object features with missing values :', len(X_train_obj_prcd.columns[X_train_obj_prcd.isnull().any()]))"
   ]
  },
  {
   "cell_type": "code",
   "execution_count": 48,
   "metadata": {},
   "outputs": [],
   "source": [
    "del(X_train_obj)"
   ]
  },
  {
   "cell_type": "markdown",
   "metadata": {},
   "source": [
    "#### Variables with No Variance"
   ]
  },
  {
   "cell_type": "code",
   "execution_count": 49,
   "metadata": {},
   "outputs": [
    {
     "data": {
      "text/plain": [
       "Index(['VAR_0008', 'VAR_0009', 'VAR_0010', 'VAR_0011', 'VAR_0012', 'VAR_0043',\n",
       "       'VAR_0044', 'VAR_0196', 'VAR_0202', 'VAR_0216', 'VAR_0222', 'VAR_0229',\n",
       "       'VAR_0239'],\n",
       "      dtype='object')"
      ]
     },
     "execution_count": 49,
     "metadata": {},
     "output_type": "execute_result"
    }
   ],
   "source": [
    "# Variables with No Variance (number of unique values = 1), these variables can be dropped\n",
    "idx_no_var = df_descr[df_descr['unique']==1].index\n",
    "idx_no_var"
   ]
  },
  {
   "cell_type": "code",
   "execution_count": 51,
   "metadata": {},
   "outputs": [
    {
     "data": {
      "text/plain": [
       "(116184, 25)"
      ]
     },
     "execution_count": 51,
     "metadata": {},
     "output_type": "execute_result"
    }
   ],
   "source": [
    "# Drop variables with no variance\n",
    "X_train_obj_prcd.drop(idx_no_var, axis=1, inplace=True)\n",
    "X_train_obj_prcd.shape"
   ]
  },
  {
   "cell_type": "markdown",
   "metadata": {},
   "source": [
    "#### Variables with majority default values as \"-1\"\n",
    "- There are variables which are defaulted to **-1**. \n",
    "- Below variables have more than 80% of the values defaulted.\n",
    "- Since information not available for majority of these variables, we can drop these.\n",
    "\n",
    "Variable and respective -1 count:  \n",
    "VAR_0466 - 121461  \n",
    "VAR_0467 - 121675  \n",
    "VAR_0493 - 135182  \n",
    "VAR_0404 - 130443  "
   ]
  },
  {
   "cell_type": "code",
   "execution_count": 52,
   "metadata": {},
   "outputs": [
    {
     "data": {
      "text/plain": [
       "(116184, 21)"
      ]
     },
     "execution_count": 52,
     "metadata": {},
     "output_type": "execute_result"
    }
   ],
   "source": [
    "cols_to_drop = ['VAR_0466', 'VAR_0467', 'VAR_0493', 'VAR_0404']\n",
    "X_train_obj_prcd.drop(cols_to_drop, axis=1, inplace=True)\n",
    "X_train_obj_prcd.shape"
   ]
  },
  {
   "cell_type": "markdown",
   "metadata": {},
   "source": [
    "### Numeric Variables"
   ]
  },
  {
   "cell_type": "code",
   "execution_count": 54,
   "metadata": {},
   "outputs": [
    {
     "data": {
      "text/plain": [
       "(116184, 1873)"
      ]
     },
     "execution_count": 54,
     "metadata": {},
     "output_type": "execute_result"
    }
   ],
   "source": [
    "X_train_num = X_train.select_dtypes(exclude='object')\n",
    "X_train_num.shape"
   ]
  },
  {
   "cell_type": "code",
   "execution_count": 55,
   "metadata": {},
   "outputs": [
    {
     "data": {
      "text/html": [
       "<div>\n",
       "<style scoped>\n",
       "    .dataframe tbody tr th:only-of-type {\n",
       "        vertical-align: middle;\n",
       "    }\n",
       "\n",
       "    .dataframe tbody tr th {\n",
       "        vertical-align: top;\n",
       "    }\n",
       "\n",
       "    .dataframe thead th {\n",
       "        text-align: right;\n",
       "    }\n",
       "</style>\n",
       "<table border=\"1\" class=\"dataframe\">\n",
       "  <thead>\n",
       "    <tr style=\"text-align: right;\">\n",
       "      <th></th>\n",
       "      <th>count</th>\n",
       "      <th>mean</th>\n",
       "      <th>std</th>\n",
       "      <th>min</th>\n",
       "      <th>25%</th>\n",
       "      <th>50%</th>\n",
       "      <th>75%</th>\n",
       "      <th>max</th>\n",
       "    </tr>\n",
       "  </thead>\n",
       "  <tbody>\n",
       "    <tr>\n",
       "      <td>ID</td>\n",
       "      <td>116184.0</td>\n",
       "      <td>1.449622e+05</td>\n",
       "      <td>8.383098e+04</td>\n",
       "      <td>2.0</td>\n",
       "      <td>72334.5</td>\n",
       "      <td>145053.0</td>\n",
       "      <td>217354.0</td>\n",
       "      <td>290461.0</td>\n",
       "    </tr>\n",
       "    <tr>\n",
       "      <td>VAR_0002</td>\n",
       "      <td>116184.0</td>\n",
       "      <td>1.055033e+02</td>\n",
       "      <td>1.438247e+02</td>\n",
       "      <td>0.0</td>\n",
       "      <td>24.0</td>\n",
       "      <td>60.0</td>\n",
       "      <td>132.0</td>\n",
       "      <td>999.0</td>\n",
       "    </tr>\n",
       "    <tr>\n",
       "      <td>VAR_0003</td>\n",
       "      <td>116184.0</td>\n",
       "      <td>8.833412e+01</td>\n",
       "      <td>1.255082e+02</td>\n",
       "      <td>0.0</td>\n",
       "      <td>13.0</td>\n",
       "      <td>55.0</td>\n",
       "      <td>120.0</td>\n",
       "      <td>999.0</td>\n",
       "    </tr>\n",
       "    <tr>\n",
       "      <td>VAR_0004</td>\n",
       "      <td>116184.0</td>\n",
       "      <td>3.722627e+03</td>\n",
       "      <td>1.240425e+04</td>\n",
       "      <td>0.0</td>\n",
       "      <td>1785.0</td>\n",
       "      <td>2500.0</td>\n",
       "      <td>3600.0</td>\n",
       "      <td>2200000.0</td>\n",
       "    </tr>\n",
       "    <tr>\n",
       "      <td>VAR_0006</td>\n",
       "      <td>116143.0</td>\n",
       "      <td>NaN</td>\n",
       "      <td>0.000000e+00</td>\n",
       "      <td>0.0</td>\n",
       "      <td>0.0</td>\n",
       "      <td>0.0</td>\n",
       "      <td>1.0</td>\n",
       "      <td>52.0</td>\n",
       "    </tr>\n",
       "    <tr>\n",
       "      <td>...</td>\n",
       "      <td>...</td>\n",
       "      <td>...</td>\n",
       "      <td>...</td>\n",
       "      <td>...</td>\n",
       "      <td>...</td>\n",
       "      <td>...</td>\n",
       "      <td>...</td>\n",
       "      <td>...</td>\n",
       "    </tr>\n",
       "    <tr>\n",
       "      <td>VAR_1929</td>\n",
       "      <td>116184.0</td>\n",
       "      <td>9.903945e+08</td>\n",
       "      <td>9.753596e+07</td>\n",
       "      <td>0.0</td>\n",
       "      <td>999999998.0</td>\n",
       "      <td>999999998.0</td>\n",
       "      <td>999999998.0</td>\n",
       "      <td>999999999.0</td>\n",
       "    </tr>\n",
       "    <tr>\n",
       "      <td>VAR_1930</td>\n",
       "      <td>116184.0</td>\n",
       "      <td>9.231061e+02</td>\n",
       "      <td>2.119181e+02</td>\n",
       "      <td>1.0</td>\n",
       "      <td>998.0</td>\n",
       "      <td>998.0</td>\n",
       "      <td>998.0</td>\n",
       "      <td>999.0</td>\n",
       "    </tr>\n",
       "    <tr>\n",
       "      <td>VAR_1931</td>\n",
       "      <td>116184.0</td>\n",
       "      <td>9.366189e+02</td>\n",
       "      <td>2.101698e+02</td>\n",
       "      <td>0.0</td>\n",
       "      <td>998.0</td>\n",
       "      <td>998.0</td>\n",
       "      <td>998.0</td>\n",
       "      <td>999.0</td>\n",
       "    </tr>\n",
       "    <tr>\n",
       "      <td>VAR_1932</td>\n",
       "      <td>116184.0</td>\n",
       "      <td>9.941405e+03</td>\n",
       "      <td>7.481829e+02</td>\n",
       "      <td>0.0</td>\n",
       "      <td>9998.0</td>\n",
       "      <td>9998.0</td>\n",
       "      <td>9998.0</td>\n",
       "      <td>9999.0</td>\n",
       "    </tr>\n",
       "    <tr>\n",
       "      <td>VAR_1933</td>\n",
       "      <td>116184.0</td>\n",
       "      <td>8.852559e+03</td>\n",
       "      <td>3.172565e+03</td>\n",
       "      <td>0.0</td>\n",
       "      <td>9998.0</td>\n",
       "      <td>9998.0</td>\n",
       "      <td>9998.0</td>\n",
       "      <td>9999.0</td>\n",
       "    </tr>\n",
       "  </tbody>\n",
       "</table>\n",
       "<p>1873 rows × 8 columns</p>\n",
       "</div>"
      ],
      "text/plain": [
       "             count          mean           std  min          25%          50%  \\\n",
       "ID        116184.0  1.449622e+05  8.383098e+04  2.0      72334.5     145053.0   \n",
       "VAR_0002  116184.0  1.055033e+02  1.438247e+02  0.0         24.0         60.0   \n",
       "VAR_0003  116184.0  8.833412e+01  1.255082e+02  0.0         13.0         55.0   \n",
       "VAR_0004  116184.0  3.722627e+03  1.240425e+04  0.0       1785.0       2500.0   \n",
       "VAR_0006  116143.0           NaN  0.000000e+00  0.0          0.0          0.0   \n",
       "...            ...           ...           ...  ...          ...          ...   \n",
       "VAR_1929  116184.0  9.903945e+08  9.753596e+07  0.0  999999998.0  999999998.0   \n",
       "VAR_1930  116184.0  9.231061e+02  2.119181e+02  1.0        998.0        998.0   \n",
       "VAR_1931  116184.0  9.366189e+02  2.101698e+02  0.0        998.0        998.0   \n",
       "VAR_1932  116184.0  9.941405e+03  7.481829e+02  0.0       9998.0       9998.0   \n",
       "VAR_1933  116184.0  8.852559e+03  3.172565e+03  0.0       9998.0       9998.0   \n",
       "\n",
       "                  75%          max  \n",
       "ID           217354.0     290461.0  \n",
       "VAR_0002        132.0        999.0  \n",
       "VAR_0003        120.0        999.0  \n",
       "VAR_0004       3600.0    2200000.0  \n",
       "VAR_0006          1.0         52.0  \n",
       "...               ...          ...  \n",
       "VAR_1929  999999998.0  999999999.0  \n",
       "VAR_1930        998.0        999.0  \n",
       "VAR_1931        998.0        999.0  \n",
       "VAR_1932       9998.0       9999.0  \n",
       "VAR_1933       9998.0       9999.0  \n",
       "\n",
       "[1873 rows x 8 columns]"
      ]
     },
     "execution_count": 55,
     "metadata": {},
     "output_type": "execute_result"
    }
   ],
   "source": [
    "df_descr = X_train_num.describe().transpose()\n",
    "df_descr"
   ]
  },
  {
   "cell_type": "code",
   "execution_count": 102,
   "metadata": {},
   "outputs": [
    {
     "data": {
      "text/plain": [
       "True"
      ]
     },
     "execution_count": 102,
     "metadata": {},
     "output_type": "execute_result"
    }
   ],
   "source": [
    "df_data_num['VAR_0223'].isnull().any()"
   ]
  },
  {
   "cell_type": "markdown",
   "metadata": {},
   "source": [
    "#### Impute Missing Variables\n",
    "Impute missing variables with missing values with respective median."
   ]
  },
  {
   "cell_type": "code",
   "execution_count": 57,
   "metadata": {},
   "outputs": [
    {
     "name": "stdout",
     "output_type": "stream",
     "text": [
      "Number of object features with missing values : 468\n"
     ]
    }
   ],
   "source": [
    "print('Number of object features with missing values :', len(X_train_num.columns[X_train_num.isnull().any()]))"
   ]
  },
  {
   "cell_type": "code",
   "execution_count": 58,
   "metadata": {},
   "outputs": [
    {
     "data": {
      "text/plain": [
       "(116184, 1873)"
      ]
     },
     "execution_count": 58,
     "metadata": {},
     "output_type": "execute_result"
    }
   ],
   "source": [
    "X_train_num_prcd = imputeMissingFeatures(X_train_num, 'median')\n",
    "X_train_num_prcd.shape"
   ]
  },
  {
   "cell_type": "code",
   "execution_count": 59,
   "metadata": {},
   "outputs": [
    {
     "name": "stdout",
     "output_type": "stream",
     "text": [
      "Number of object features with missing values : 0\n"
     ]
    }
   ],
   "source": [
    "print('Number of object features with missing values :', len(X_train_num_prcd.columns[X_train_num_prcd.isnull().any()]))"
   ]
  },
  {
   "cell_type": "markdown",
   "metadata": {},
   "source": [
    "#### Variables with no variance"
   ]
  },
  {
   "cell_type": "code",
   "execution_count": 60,
   "metadata": {},
   "outputs": [
    {
     "data": {
      "text/plain": [
       "Index(['VAR_0006', 'VAR_0007', 'VAR_0013', 'VAR_0014', 'VAR_0015', 'VAR_0016',\n",
       "       'VAR_0017', 'VAR_0018', 'VAR_0019', 'VAR_0020',\n",
       "       ...\n",
       "       'VAR_0495', 'VAR_0514', 'VAR_0515', 'VAR_0517', 'VAR_0520', 'VAR_0527',\n",
       "       'VAR_0528', 'VAR_0530', 'VAR_0847', 'VAR_1428'],\n",
       "      dtype='object', length=159)"
      ]
     },
     "execution_count": 60,
     "metadata": {},
     "output_type": "execute_result"
    }
   ],
   "source": [
    "# Variables with no variance\n",
    "idx_no_var = df_descr[df_descr['std'] == 0].index\n",
    "idx_no_var"
   ]
  },
  {
   "cell_type": "code",
   "execution_count": 61,
   "metadata": {},
   "outputs": [
    {
     "data": {
      "text/plain": [
       "(116184, 1714)"
      ]
     },
     "execution_count": 61,
     "metadata": {},
     "output_type": "execute_result"
    }
   ],
   "source": [
    "X_train_num_prcd.drop(idx_no_var, axis=1, inplace=True)\n",
    "X_train_num_prcd.shape"
   ]
  },
  {
   "cell_type": "code",
   "execution_count": 62,
   "metadata": {},
   "outputs": [],
   "source": [
    "# This step was to pick few variables which were exluded from previous step because std=nan. \n",
    "# E.g 'VAR_0223', Not sure why df.describe() would return std=nan for this variable\n",
    "# TO take care off such instances below is another way to find out variables with no variance\n",
    "s = X_train_num_prcd.nunique()==1\n",
    "idx_no_var = s[s==True].index"
   ]
  },
  {
   "cell_type": "code",
   "execution_count": 63,
   "metadata": {},
   "outputs": [],
   "source": [
    "X_train_num_prcd.drop(idx_no_var, axis=1, inplace=True)"
   ]
  },
  {
   "cell_type": "code",
   "execution_count": 65,
   "metadata": {},
   "outputs": [],
   "source": [
    "X_train_num_prcd = X_train_num_prcd.drop('ID', axis=1)"
   ]
  },
  {
   "cell_type": "code",
   "execution_count": 66,
   "metadata": {},
   "outputs": [
    {
     "data": {
      "text/plain": [
       "(116184, 1712)"
      ]
     },
     "execution_count": 66,
     "metadata": {},
     "output_type": "execute_result"
    }
   ],
   "source": [
    "X_train_num_prcd.shape"
   ]
  },
  {
   "cell_type": "markdown",
   "metadata": {},
   "source": [
    "### Correlated Features"
   ]
  },
  {
   "cell_type": "code",
   "execution_count": 111,
   "metadata": {},
   "outputs": [],
   "source": [
    "# Merge Obect and Numeric dataframes\n",
    "#df_dataX = pd.concat([df_train_obj, df_train_num], axis=1)\n",
    "#df_dataX.shape"
   ]
  },
  {
   "cell_type": "code",
   "execution_count": 67,
   "metadata": {},
   "outputs": [
    {
     "name": "stdout",
     "output_type": "stream",
     "text": [
      "CPU times: user 7min 44s, sys: 406 ms, total: 7min 44s\n",
      "Wall time: 7min 50s\n"
     ]
    },
    {
     "data": {
      "text/html": [
       "<div>\n",
       "<style scoped>\n",
       "    .dataframe tbody tr th:only-of-type {\n",
       "        vertical-align: middle;\n",
       "    }\n",
       "\n",
       "    .dataframe tbody tr th {\n",
       "        vertical-align: top;\n",
       "    }\n",
       "\n",
       "    .dataframe thead th {\n",
       "        text-align: right;\n",
       "    }\n",
       "</style>\n",
       "<table border=\"1\" class=\"dataframe\">\n",
       "  <thead>\n",
       "    <tr style=\"text-align: right;\">\n",
       "      <th></th>\n",
       "      <th>VAR_0002</th>\n",
       "      <th>VAR_0003</th>\n",
       "      <th>VAR_0004</th>\n",
       "      <th>VAR_0045</th>\n",
       "      <th>VAR_0046</th>\n",
       "      <th>VAR_0047</th>\n",
       "      <th>VAR_0048</th>\n",
       "      <th>VAR_0049</th>\n",
       "      <th>VAR_0063</th>\n",
       "      <th>VAR_0064</th>\n",
       "      <th>...</th>\n",
       "      <th>VAR_1924</th>\n",
       "      <th>VAR_1925</th>\n",
       "      <th>VAR_1926</th>\n",
       "      <th>VAR_1927</th>\n",
       "      <th>VAR_1928</th>\n",
       "      <th>VAR_1929</th>\n",
       "      <th>VAR_1930</th>\n",
       "      <th>VAR_1931</th>\n",
       "      <th>VAR_1932</th>\n",
       "      <th>VAR_1933</th>\n",
       "    </tr>\n",
       "  </thead>\n",
       "  <tbody>\n",
       "    <tr>\n",
       "      <td>VAR_0002</td>\n",
       "      <td>1.000000</td>\n",
       "      <td>0.145695</td>\n",
       "      <td>0.004533</td>\n",
       "      <td>0.001593</td>\n",
       "      <td>0.001698</td>\n",
       "      <td>0.003411</td>\n",
       "      <td>0.003477</td>\n",
       "      <td>0.015801</td>\n",
       "      <td>0.019512</td>\n",
       "      <td>0.018874</td>\n",
       "      <td>...</td>\n",
       "      <td>0.015492</td>\n",
       "      <td>0.011876</td>\n",
       "      <td>0.033671</td>\n",
       "      <td>0.020788</td>\n",
       "      <td>0.020666</td>\n",
       "      <td>0.010286</td>\n",
       "      <td>0.032799</td>\n",
       "      <td>0.019017</td>\n",
       "      <td>0.005748</td>\n",
       "      <td>0.034130</td>\n",
       "    </tr>\n",
       "    <tr>\n",
       "      <td>VAR_0003</td>\n",
       "      <td>0.145695</td>\n",
       "      <td>1.000000</td>\n",
       "      <td>0.023100</td>\n",
       "      <td>0.003004</td>\n",
       "      <td>0.003448</td>\n",
       "      <td>0.002412</td>\n",
       "      <td>0.001881</td>\n",
       "      <td>0.001420</td>\n",
       "      <td>0.013014</td>\n",
       "      <td>0.018356</td>\n",
       "      <td>...</td>\n",
       "      <td>0.026105</td>\n",
       "      <td>0.022231</td>\n",
       "      <td>0.006897</td>\n",
       "      <td>0.008575</td>\n",
       "      <td>0.008635</td>\n",
       "      <td>0.000310</td>\n",
       "      <td>0.005767</td>\n",
       "      <td>0.007685</td>\n",
       "      <td>0.001255</td>\n",
       "      <td>0.007108</td>\n",
       "    </tr>\n",
       "    <tr>\n",
       "      <td>VAR_0004</td>\n",
       "      <td>0.004533</td>\n",
       "      <td>0.023100</td>\n",
       "      <td>1.000000</td>\n",
       "      <td>0.001587</td>\n",
       "      <td>0.000465</td>\n",
       "      <td>0.001210</td>\n",
       "      <td>0.002137</td>\n",
       "      <td>0.001415</td>\n",
       "      <td>0.003550</td>\n",
       "      <td>0.004120</td>\n",
       "      <td>...</td>\n",
       "      <td>0.026927</td>\n",
       "      <td>0.007379</td>\n",
       "      <td>0.003787</td>\n",
       "      <td>0.001005</td>\n",
       "      <td>0.000945</td>\n",
       "      <td>0.004504</td>\n",
       "      <td>0.005049</td>\n",
       "      <td>0.001427</td>\n",
       "      <td>0.003037</td>\n",
       "      <td>0.003630</td>\n",
       "    </tr>\n",
       "    <tr>\n",
       "      <td>VAR_0045</td>\n",
       "      <td>0.001593</td>\n",
       "      <td>0.003004</td>\n",
       "      <td>0.001587</td>\n",
       "      <td>1.000000</td>\n",
       "      <td>0.687301</td>\n",
       "      <td>0.611969</td>\n",
       "      <td>0.560744</td>\n",
       "      <td>0.323021</td>\n",
       "      <td>0.079003</td>\n",
       "      <td>0.075235</td>\n",
       "      <td>...</td>\n",
       "      <td>0.000080</td>\n",
       "      <td>0.002561</td>\n",
       "      <td>0.004553</td>\n",
       "      <td>0.004291</td>\n",
       "      <td>0.004314</td>\n",
       "      <td>0.006562</td>\n",
       "      <td>0.004831</td>\n",
       "      <td>0.004333</td>\n",
       "      <td>0.008278</td>\n",
       "      <td>0.004581</td>\n",
       "    </tr>\n",
       "    <tr>\n",
       "      <td>VAR_0046</td>\n",
       "      <td>0.001698</td>\n",
       "      <td>0.003448</td>\n",
       "      <td>0.000465</td>\n",
       "      <td>0.687301</td>\n",
       "      <td>1.000000</td>\n",
       "      <td>0.882097</td>\n",
       "      <td>0.799962</td>\n",
       "      <td>0.445980</td>\n",
       "      <td>0.097089</td>\n",
       "      <td>0.095707</td>\n",
       "      <td>...</td>\n",
       "      <td>0.001045</td>\n",
       "      <td>0.002951</td>\n",
       "      <td>0.009311</td>\n",
       "      <td>0.009890</td>\n",
       "      <td>0.009933</td>\n",
       "      <td>0.005971</td>\n",
       "      <td>0.008602</td>\n",
       "      <td>0.009243</td>\n",
       "      <td>0.007595</td>\n",
       "      <td>0.009356</td>\n",
       "    </tr>\n",
       "    <tr>\n",
       "      <td>...</td>\n",
       "      <td>...</td>\n",
       "      <td>...</td>\n",
       "      <td>...</td>\n",
       "      <td>...</td>\n",
       "      <td>...</td>\n",
       "      <td>...</td>\n",
       "      <td>...</td>\n",
       "      <td>...</td>\n",
       "      <td>...</td>\n",
       "      <td>...</td>\n",
       "      <td>...</td>\n",
       "      <td>...</td>\n",
       "      <td>...</td>\n",
       "      <td>...</td>\n",
       "      <td>...</td>\n",
       "      <td>...</td>\n",
       "      <td>...</td>\n",
       "      <td>...</td>\n",
       "      <td>...</td>\n",
       "      <td>...</td>\n",
       "      <td>...</td>\n",
       "    </tr>\n",
       "    <tr>\n",
       "      <td>VAR_1929</td>\n",
       "      <td>0.010286</td>\n",
       "      <td>0.000310</td>\n",
       "      <td>0.004504</td>\n",
       "      <td>0.006562</td>\n",
       "      <td>0.005971</td>\n",
       "      <td>0.007260</td>\n",
       "      <td>0.006141</td>\n",
       "      <td>0.009332</td>\n",
       "      <td>0.017037</td>\n",
       "      <td>0.019052</td>\n",
       "      <td>...</td>\n",
       "      <td>0.004990</td>\n",
       "      <td>0.014095</td>\n",
       "      <td>0.272185</td>\n",
       "      <td>0.327110</td>\n",
       "      <td>0.325254</td>\n",
       "      <td>1.000000</td>\n",
       "      <td>0.383100</td>\n",
       "      <td>0.404177</td>\n",
       "      <td>0.645470</td>\n",
       "      <td>0.272567</td>\n",
       "    </tr>\n",
       "    <tr>\n",
       "      <td>VAR_1930</td>\n",
       "      <td>0.032799</td>\n",
       "      <td>0.005767</td>\n",
       "      <td>0.005049</td>\n",
       "      <td>0.004831</td>\n",
       "      <td>0.008602</td>\n",
       "      <td>0.014985</td>\n",
       "      <td>0.019529</td>\n",
       "      <td>0.041745</td>\n",
       "      <td>0.050944</td>\n",
       "      <td>0.059995</td>\n",
       "      <td>...</td>\n",
       "      <td>0.018068</td>\n",
       "      <td>0.036659</td>\n",
       "      <td>0.978300</td>\n",
       "      <td>0.814077</td>\n",
       "      <td>0.810425</td>\n",
       "      <td>0.383100</td>\n",
       "      <td>1.000000</td>\n",
       "      <td>0.803869</td>\n",
       "      <td>0.277466</td>\n",
       "      <td>0.977559</td>\n",
       "    </tr>\n",
       "    <tr>\n",
       "      <td>VAR_1931</td>\n",
       "      <td>0.019017</td>\n",
       "      <td>0.007685</td>\n",
       "      <td>0.001427</td>\n",
       "      <td>0.004333</td>\n",
       "      <td>0.009243</td>\n",
       "      <td>0.013751</td>\n",
       "      <td>0.017773</td>\n",
       "      <td>0.036706</td>\n",
       "      <td>0.046441</td>\n",
       "      <td>0.055990</td>\n",
       "      <td>...</td>\n",
       "      <td>0.025728</td>\n",
       "      <td>0.031310</td>\n",
       "      <td>0.808431</td>\n",
       "      <td>0.968016</td>\n",
       "      <td>0.966625</td>\n",
       "      <td>0.404177</td>\n",
       "      <td>0.803869</td>\n",
       "      <td>1.000000</td>\n",
       "      <td>0.276069</td>\n",
       "      <td>0.808440</td>\n",
       "    </tr>\n",
       "    <tr>\n",
       "      <td>VAR_1932</td>\n",
       "      <td>0.005748</td>\n",
       "      <td>0.001255</td>\n",
       "      <td>0.003037</td>\n",
       "      <td>0.008278</td>\n",
       "      <td>0.007595</td>\n",
       "      <td>0.007006</td>\n",
       "      <td>0.005801</td>\n",
       "      <td>0.011539</td>\n",
       "      <td>0.021890</td>\n",
       "      <td>0.025288</td>\n",
       "      <td>...</td>\n",
       "      <td>0.007296</td>\n",
       "      <td>0.011599</td>\n",
       "      <td>0.209264</td>\n",
       "      <td>0.233961</td>\n",
       "      <td>0.232859</td>\n",
       "      <td>0.645470</td>\n",
       "      <td>0.277466</td>\n",
       "      <td>0.276069</td>\n",
       "      <td>1.000000</td>\n",
       "      <td>0.209243</td>\n",
       "    </tr>\n",
       "    <tr>\n",
       "      <td>VAR_1933</td>\n",
       "      <td>0.034130</td>\n",
       "      <td>0.007108</td>\n",
       "      <td>0.003630</td>\n",
       "      <td>0.004581</td>\n",
       "      <td>0.009356</td>\n",
       "      <td>0.015941</td>\n",
       "      <td>0.020961</td>\n",
       "      <td>0.045990</td>\n",
       "      <td>0.056249</td>\n",
       "      <td>0.066212</td>\n",
       "      <td>...</td>\n",
       "      <td>0.023529</td>\n",
       "      <td>0.038083</td>\n",
       "      <td>0.999436</td>\n",
       "      <td>0.839760</td>\n",
       "      <td>0.836570</td>\n",
       "      <td>0.272567</td>\n",
       "      <td>0.977559</td>\n",
       "      <td>0.808440</td>\n",
       "      <td>0.209243</td>\n",
       "      <td>1.000000</td>\n",
       "    </tr>\n",
       "  </tbody>\n",
       "</table>\n",
       "<p>1712 rows × 1712 columns</p>\n",
       "</div>"
      ],
      "text/plain": [
       "          VAR_0002  VAR_0003  VAR_0004  VAR_0045  VAR_0046  VAR_0047  \\\n",
       "VAR_0002  1.000000  0.145695  0.004533  0.001593  0.001698  0.003411   \n",
       "VAR_0003  0.145695  1.000000  0.023100  0.003004  0.003448  0.002412   \n",
       "VAR_0004  0.004533  0.023100  1.000000  0.001587  0.000465  0.001210   \n",
       "VAR_0045  0.001593  0.003004  0.001587  1.000000  0.687301  0.611969   \n",
       "VAR_0046  0.001698  0.003448  0.000465  0.687301  1.000000  0.882097   \n",
       "...            ...       ...       ...       ...       ...       ...   \n",
       "VAR_1929  0.010286  0.000310  0.004504  0.006562  0.005971  0.007260   \n",
       "VAR_1930  0.032799  0.005767  0.005049  0.004831  0.008602  0.014985   \n",
       "VAR_1931  0.019017  0.007685  0.001427  0.004333  0.009243  0.013751   \n",
       "VAR_1932  0.005748  0.001255  0.003037  0.008278  0.007595  0.007006   \n",
       "VAR_1933  0.034130  0.007108  0.003630  0.004581  0.009356  0.015941   \n",
       "\n",
       "          VAR_0048  VAR_0049  VAR_0063  VAR_0064  ...  VAR_1924  VAR_1925  \\\n",
       "VAR_0002  0.003477  0.015801  0.019512  0.018874  ...  0.015492  0.011876   \n",
       "VAR_0003  0.001881  0.001420  0.013014  0.018356  ...  0.026105  0.022231   \n",
       "VAR_0004  0.002137  0.001415  0.003550  0.004120  ...  0.026927  0.007379   \n",
       "VAR_0045  0.560744  0.323021  0.079003  0.075235  ...  0.000080  0.002561   \n",
       "VAR_0046  0.799962  0.445980  0.097089  0.095707  ...  0.001045  0.002951   \n",
       "...            ...       ...       ...       ...  ...       ...       ...   \n",
       "VAR_1929  0.006141  0.009332  0.017037  0.019052  ...  0.004990  0.014095   \n",
       "VAR_1930  0.019529  0.041745  0.050944  0.059995  ...  0.018068  0.036659   \n",
       "VAR_1931  0.017773  0.036706  0.046441  0.055990  ...  0.025728  0.031310   \n",
       "VAR_1932  0.005801  0.011539  0.021890  0.025288  ...  0.007296  0.011599   \n",
       "VAR_1933  0.020961  0.045990  0.056249  0.066212  ...  0.023529  0.038083   \n",
       "\n",
       "          VAR_1926  VAR_1927  VAR_1928  VAR_1929  VAR_1930  VAR_1931  \\\n",
       "VAR_0002  0.033671  0.020788  0.020666  0.010286  0.032799  0.019017   \n",
       "VAR_0003  0.006897  0.008575  0.008635  0.000310  0.005767  0.007685   \n",
       "VAR_0004  0.003787  0.001005  0.000945  0.004504  0.005049  0.001427   \n",
       "VAR_0045  0.004553  0.004291  0.004314  0.006562  0.004831  0.004333   \n",
       "VAR_0046  0.009311  0.009890  0.009933  0.005971  0.008602  0.009243   \n",
       "...            ...       ...       ...       ...       ...       ...   \n",
       "VAR_1929  0.272185  0.327110  0.325254  1.000000  0.383100  0.404177   \n",
       "VAR_1930  0.978300  0.814077  0.810425  0.383100  1.000000  0.803869   \n",
       "VAR_1931  0.808431  0.968016  0.966625  0.404177  0.803869  1.000000   \n",
       "VAR_1932  0.209264  0.233961  0.232859  0.645470  0.277466  0.276069   \n",
       "VAR_1933  0.999436  0.839760  0.836570  0.272567  0.977559  0.808440   \n",
       "\n",
       "          VAR_1932  VAR_1933  \n",
       "VAR_0002  0.005748  0.034130  \n",
       "VAR_0003  0.001255  0.007108  \n",
       "VAR_0004  0.003037  0.003630  \n",
       "VAR_0045  0.008278  0.004581  \n",
       "VAR_0046  0.007595  0.009356  \n",
       "...            ...       ...  \n",
       "VAR_1929  0.645470  0.272567  \n",
       "VAR_1930  0.277466  0.977559  \n",
       "VAR_1931  0.276069  0.808440  \n",
       "VAR_1932  1.000000  0.209243  \n",
       "VAR_1933  0.209243  1.000000  \n",
       "\n",
       "[1712 rows x 1712 columns]"
      ]
     },
     "execution_count": 67,
     "metadata": {},
     "output_type": "execute_result"
    }
   ],
   "source": [
    "%%time\n",
    "df_corr = X_train_num_prcd.corr().abs()\n",
    "df_corr"
   ]
  },
  {
   "cell_type": "code",
   "execution_count": 68,
   "metadata": {},
   "outputs": [
    {
     "data": {
      "text/plain": [
       "array([[ True,  True,  True, ...,  True,  True,  True],\n",
       "       [False,  True,  True, ...,  True,  True,  True],\n",
       "       [False, False,  True, ...,  True,  True,  True],\n",
       "       ...,\n",
       "       [False, False, False, ...,  True,  True,  True],\n",
       "       [False, False, False, ..., False,  True,  True],\n",
       "       [False, False, False, ..., False, False,  True]])"
      ]
     },
     "execution_count": 68,
     "metadata": {},
     "output_type": "execute_result"
    }
   ],
   "source": [
    "# Create a True/False mask and apply it (we will eliminate one half of the correlation matrix)\n",
    "mask = np.triu(np.ones_like(df_corr, dtype=bool))\n",
    "mask"
   ]
  },
  {
   "cell_type": "code",
   "execution_count": 69,
   "metadata": {},
   "outputs": [
    {
     "data": {
      "text/html": [
       "<div>\n",
       "<style scoped>\n",
       "    .dataframe tbody tr th:only-of-type {\n",
       "        vertical-align: middle;\n",
       "    }\n",
       "\n",
       "    .dataframe tbody tr th {\n",
       "        vertical-align: top;\n",
       "    }\n",
       "\n",
       "    .dataframe thead th {\n",
       "        text-align: right;\n",
       "    }\n",
       "</style>\n",
       "<table border=\"1\" class=\"dataframe\">\n",
       "  <thead>\n",
       "    <tr style=\"text-align: right;\">\n",
       "      <th></th>\n",
       "      <th>VAR_0002</th>\n",
       "      <th>VAR_0003</th>\n",
       "      <th>VAR_0004</th>\n",
       "      <th>VAR_0045</th>\n",
       "      <th>VAR_0046</th>\n",
       "      <th>VAR_0047</th>\n",
       "      <th>VAR_0048</th>\n",
       "      <th>VAR_0049</th>\n",
       "      <th>VAR_0063</th>\n",
       "      <th>VAR_0064</th>\n",
       "      <th>...</th>\n",
       "      <th>VAR_1924</th>\n",
       "      <th>VAR_1925</th>\n",
       "      <th>VAR_1926</th>\n",
       "      <th>VAR_1927</th>\n",
       "      <th>VAR_1928</th>\n",
       "      <th>VAR_1929</th>\n",
       "      <th>VAR_1930</th>\n",
       "      <th>VAR_1931</th>\n",
       "      <th>VAR_1932</th>\n",
       "      <th>VAR_1933</th>\n",
       "    </tr>\n",
       "  </thead>\n",
       "  <tbody>\n",
       "    <tr>\n",
       "      <td>VAR_0002</td>\n",
       "      <td>NaN</td>\n",
       "      <td>NaN</td>\n",
       "      <td>NaN</td>\n",
       "      <td>NaN</td>\n",
       "      <td>NaN</td>\n",
       "      <td>NaN</td>\n",
       "      <td>NaN</td>\n",
       "      <td>NaN</td>\n",
       "      <td>NaN</td>\n",
       "      <td>NaN</td>\n",
       "      <td>...</td>\n",
       "      <td>NaN</td>\n",
       "      <td>NaN</td>\n",
       "      <td>NaN</td>\n",
       "      <td>NaN</td>\n",
       "      <td>NaN</td>\n",
       "      <td>NaN</td>\n",
       "      <td>NaN</td>\n",
       "      <td>NaN</td>\n",
       "      <td>NaN</td>\n",
       "      <td>NaN</td>\n",
       "    </tr>\n",
       "    <tr>\n",
       "      <td>VAR_0003</td>\n",
       "      <td>0.145695</td>\n",
       "      <td>NaN</td>\n",
       "      <td>NaN</td>\n",
       "      <td>NaN</td>\n",
       "      <td>NaN</td>\n",
       "      <td>NaN</td>\n",
       "      <td>NaN</td>\n",
       "      <td>NaN</td>\n",
       "      <td>NaN</td>\n",
       "      <td>NaN</td>\n",
       "      <td>...</td>\n",
       "      <td>NaN</td>\n",
       "      <td>NaN</td>\n",
       "      <td>NaN</td>\n",
       "      <td>NaN</td>\n",
       "      <td>NaN</td>\n",
       "      <td>NaN</td>\n",
       "      <td>NaN</td>\n",
       "      <td>NaN</td>\n",
       "      <td>NaN</td>\n",
       "      <td>NaN</td>\n",
       "    </tr>\n",
       "    <tr>\n",
       "      <td>VAR_0004</td>\n",
       "      <td>0.004533</td>\n",
       "      <td>0.023100</td>\n",
       "      <td>NaN</td>\n",
       "      <td>NaN</td>\n",
       "      <td>NaN</td>\n",
       "      <td>NaN</td>\n",
       "      <td>NaN</td>\n",
       "      <td>NaN</td>\n",
       "      <td>NaN</td>\n",
       "      <td>NaN</td>\n",
       "      <td>...</td>\n",
       "      <td>NaN</td>\n",
       "      <td>NaN</td>\n",
       "      <td>NaN</td>\n",
       "      <td>NaN</td>\n",
       "      <td>NaN</td>\n",
       "      <td>NaN</td>\n",
       "      <td>NaN</td>\n",
       "      <td>NaN</td>\n",
       "      <td>NaN</td>\n",
       "      <td>NaN</td>\n",
       "    </tr>\n",
       "    <tr>\n",
       "      <td>VAR_0045</td>\n",
       "      <td>0.001593</td>\n",
       "      <td>0.003004</td>\n",
       "      <td>0.001587</td>\n",
       "      <td>NaN</td>\n",
       "      <td>NaN</td>\n",
       "      <td>NaN</td>\n",
       "      <td>NaN</td>\n",
       "      <td>NaN</td>\n",
       "      <td>NaN</td>\n",
       "      <td>NaN</td>\n",
       "      <td>...</td>\n",
       "      <td>NaN</td>\n",
       "      <td>NaN</td>\n",
       "      <td>NaN</td>\n",
       "      <td>NaN</td>\n",
       "      <td>NaN</td>\n",
       "      <td>NaN</td>\n",
       "      <td>NaN</td>\n",
       "      <td>NaN</td>\n",
       "      <td>NaN</td>\n",
       "      <td>NaN</td>\n",
       "    </tr>\n",
       "    <tr>\n",
       "      <td>VAR_0046</td>\n",
       "      <td>0.001698</td>\n",
       "      <td>0.003448</td>\n",
       "      <td>0.000465</td>\n",
       "      <td>0.687301</td>\n",
       "      <td>NaN</td>\n",
       "      <td>NaN</td>\n",
       "      <td>NaN</td>\n",
       "      <td>NaN</td>\n",
       "      <td>NaN</td>\n",
       "      <td>NaN</td>\n",
       "      <td>...</td>\n",
       "      <td>NaN</td>\n",
       "      <td>NaN</td>\n",
       "      <td>NaN</td>\n",
       "      <td>NaN</td>\n",
       "      <td>NaN</td>\n",
       "      <td>NaN</td>\n",
       "      <td>NaN</td>\n",
       "      <td>NaN</td>\n",
       "      <td>NaN</td>\n",
       "      <td>NaN</td>\n",
       "    </tr>\n",
       "    <tr>\n",
       "      <td>...</td>\n",
       "      <td>...</td>\n",
       "      <td>...</td>\n",
       "      <td>...</td>\n",
       "      <td>...</td>\n",
       "      <td>...</td>\n",
       "      <td>...</td>\n",
       "      <td>...</td>\n",
       "      <td>...</td>\n",
       "      <td>...</td>\n",
       "      <td>...</td>\n",
       "      <td>...</td>\n",
       "      <td>...</td>\n",
       "      <td>...</td>\n",
       "      <td>...</td>\n",
       "      <td>...</td>\n",
       "      <td>...</td>\n",
       "      <td>...</td>\n",
       "      <td>...</td>\n",
       "      <td>...</td>\n",
       "      <td>...</td>\n",
       "      <td>...</td>\n",
       "    </tr>\n",
       "    <tr>\n",
       "      <td>VAR_1929</td>\n",
       "      <td>0.010286</td>\n",
       "      <td>0.000310</td>\n",
       "      <td>0.004504</td>\n",
       "      <td>0.006562</td>\n",
       "      <td>0.005971</td>\n",
       "      <td>0.007260</td>\n",
       "      <td>0.006141</td>\n",
       "      <td>0.009332</td>\n",
       "      <td>0.017037</td>\n",
       "      <td>0.019052</td>\n",
       "      <td>...</td>\n",
       "      <td>0.004990</td>\n",
       "      <td>0.014095</td>\n",
       "      <td>0.272185</td>\n",
       "      <td>0.327110</td>\n",
       "      <td>0.325254</td>\n",
       "      <td>NaN</td>\n",
       "      <td>NaN</td>\n",
       "      <td>NaN</td>\n",
       "      <td>NaN</td>\n",
       "      <td>NaN</td>\n",
       "    </tr>\n",
       "    <tr>\n",
       "      <td>VAR_1930</td>\n",
       "      <td>0.032799</td>\n",
       "      <td>0.005767</td>\n",
       "      <td>0.005049</td>\n",
       "      <td>0.004831</td>\n",
       "      <td>0.008602</td>\n",
       "      <td>0.014985</td>\n",
       "      <td>0.019529</td>\n",
       "      <td>0.041745</td>\n",
       "      <td>0.050944</td>\n",
       "      <td>0.059995</td>\n",
       "      <td>...</td>\n",
       "      <td>0.018068</td>\n",
       "      <td>0.036659</td>\n",
       "      <td>0.978300</td>\n",
       "      <td>0.814077</td>\n",
       "      <td>0.810425</td>\n",
       "      <td>0.383100</td>\n",
       "      <td>NaN</td>\n",
       "      <td>NaN</td>\n",
       "      <td>NaN</td>\n",
       "      <td>NaN</td>\n",
       "    </tr>\n",
       "    <tr>\n",
       "      <td>VAR_1931</td>\n",
       "      <td>0.019017</td>\n",
       "      <td>0.007685</td>\n",
       "      <td>0.001427</td>\n",
       "      <td>0.004333</td>\n",
       "      <td>0.009243</td>\n",
       "      <td>0.013751</td>\n",
       "      <td>0.017773</td>\n",
       "      <td>0.036706</td>\n",
       "      <td>0.046441</td>\n",
       "      <td>0.055990</td>\n",
       "      <td>...</td>\n",
       "      <td>0.025728</td>\n",
       "      <td>0.031310</td>\n",
       "      <td>0.808431</td>\n",
       "      <td>0.968016</td>\n",
       "      <td>0.966625</td>\n",
       "      <td>0.404177</td>\n",
       "      <td>0.803869</td>\n",
       "      <td>NaN</td>\n",
       "      <td>NaN</td>\n",
       "      <td>NaN</td>\n",
       "    </tr>\n",
       "    <tr>\n",
       "      <td>VAR_1932</td>\n",
       "      <td>0.005748</td>\n",
       "      <td>0.001255</td>\n",
       "      <td>0.003037</td>\n",
       "      <td>0.008278</td>\n",
       "      <td>0.007595</td>\n",
       "      <td>0.007006</td>\n",
       "      <td>0.005801</td>\n",
       "      <td>0.011539</td>\n",
       "      <td>0.021890</td>\n",
       "      <td>0.025288</td>\n",
       "      <td>...</td>\n",
       "      <td>0.007296</td>\n",
       "      <td>0.011599</td>\n",
       "      <td>0.209264</td>\n",
       "      <td>0.233961</td>\n",
       "      <td>0.232859</td>\n",
       "      <td>0.645470</td>\n",
       "      <td>0.277466</td>\n",
       "      <td>0.276069</td>\n",
       "      <td>NaN</td>\n",
       "      <td>NaN</td>\n",
       "    </tr>\n",
       "    <tr>\n",
       "      <td>VAR_1933</td>\n",
       "      <td>0.034130</td>\n",
       "      <td>0.007108</td>\n",
       "      <td>0.003630</td>\n",
       "      <td>0.004581</td>\n",
       "      <td>0.009356</td>\n",
       "      <td>0.015941</td>\n",
       "      <td>0.020961</td>\n",
       "      <td>0.045990</td>\n",
       "      <td>0.056249</td>\n",
       "      <td>0.066212</td>\n",
       "      <td>...</td>\n",
       "      <td>0.023529</td>\n",
       "      <td>0.038083</td>\n",
       "      <td>0.999436</td>\n",
       "      <td>0.839760</td>\n",
       "      <td>0.836570</td>\n",
       "      <td>0.272567</td>\n",
       "      <td>0.977559</td>\n",
       "      <td>0.808440</td>\n",
       "      <td>0.209243</td>\n",
       "      <td>NaN</td>\n",
       "    </tr>\n",
       "  </tbody>\n",
       "</table>\n",
       "<p>1712 rows × 1712 columns</p>\n",
       "</div>"
      ],
      "text/plain": [
       "          VAR_0002  VAR_0003  VAR_0004  VAR_0045  VAR_0046  VAR_0047  \\\n",
       "VAR_0002       NaN       NaN       NaN       NaN       NaN       NaN   \n",
       "VAR_0003  0.145695       NaN       NaN       NaN       NaN       NaN   \n",
       "VAR_0004  0.004533  0.023100       NaN       NaN       NaN       NaN   \n",
       "VAR_0045  0.001593  0.003004  0.001587       NaN       NaN       NaN   \n",
       "VAR_0046  0.001698  0.003448  0.000465  0.687301       NaN       NaN   \n",
       "...            ...       ...       ...       ...       ...       ...   \n",
       "VAR_1929  0.010286  0.000310  0.004504  0.006562  0.005971  0.007260   \n",
       "VAR_1930  0.032799  0.005767  0.005049  0.004831  0.008602  0.014985   \n",
       "VAR_1931  0.019017  0.007685  0.001427  0.004333  0.009243  0.013751   \n",
       "VAR_1932  0.005748  0.001255  0.003037  0.008278  0.007595  0.007006   \n",
       "VAR_1933  0.034130  0.007108  0.003630  0.004581  0.009356  0.015941   \n",
       "\n",
       "          VAR_0048  VAR_0049  VAR_0063  VAR_0064  ...  VAR_1924  VAR_1925  \\\n",
       "VAR_0002       NaN       NaN       NaN       NaN  ...       NaN       NaN   \n",
       "VAR_0003       NaN       NaN       NaN       NaN  ...       NaN       NaN   \n",
       "VAR_0004       NaN       NaN       NaN       NaN  ...       NaN       NaN   \n",
       "VAR_0045       NaN       NaN       NaN       NaN  ...       NaN       NaN   \n",
       "VAR_0046       NaN       NaN       NaN       NaN  ...       NaN       NaN   \n",
       "...            ...       ...       ...       ...  ...       ...       ...   \n",
       "VAR_1929  0.006141  0.009332  0.017037  0.019052  ...  0.004990  0.014095   \n",
       "VAR_1930  0.019529  0.041745  0.050944  0.059995  ...  0.018068  0.036659   \n",
       "VAR_1931  0.017773  0.036706  0.046441  0.055990  ...  0.025728  0.031310   \n",
       "VAR_1932  0.005801  0.011539  0.021890  0.025288  ...  0.007296  0.011599   \n",
       "VAR_1933  0.020961  0.045990  0.056249  0.066212  ...  0.023529  0.038083   \n",
       "\n",
       "          VAR_1926  VAR_1927  VAR_1928  VAR_1929  VAR_1930  VAR_1931  \\\n",
       "VAR_0002       NaN       NaN       NaN       NaN       NaN       NaN   \n",
       "VAR_0003       NaN       NaN       NaN       NaN       NaN       NaN   \n",
       "VAR_0004       NaN       NaN       NaN       NaN       NaN       NaN   \n",
       "VAR_0045       NaN       NaN       NaN       NaN       NaN       NaN   \n",
       "VAR_0046       NaN       NaN       NaN       NaN       NaN       NaN   \n",
       "...            ...       ...       ...       ...       ...       ...   \n",
       "VAR_1929  0.272185  0.327110  0.325254       NaN       NaN       NaN   \n",
       "VAR_1930  0.978300  0.814077  0.810425  0.383100       NaN       NaN   \n",
       "VAR_1931  0.808431  0.968016  0.966625  0.404177  0.803869       NaN   \n",
       "VAR_1932  0.209264  0.233961  0.232859  0.645470  0.277466  0.276069   \n",
       "VAR_1933  0.999436  0.839760  0.836570  0.272567  0.977559  0.808440   \n",
       "\n",
       "          VAR_1932  VAR_1933  \n",
       "VAR_0002       NaN       NaN  \n",
       "VAR_0003       NaN       NaN  \n",
       "VAR_0004       NaN       NaN  \n",
       "VAR_0045       NaN       NaN  \n",
       "VAR_0046       NaN       NaN  \n",
       "...            ...       ...  \n",
       "VAR_1929       NaN       NaN  \n",
       "VAR_1930       NaN       NaN  \n",
       "VAR_1931       NaN       NaN  \n",
       "VAR_1932       NaN       NaN  \n",
       "VAR_1933  0.209243       NaN  \n",
       "\n",
       "[1712 rows x 1712 columns]"
      ]
     },
     "execution_count": 69,
     "metadata": {},
     "output_type": "execute_result"
    }
   ],
   "source": [
    "# Get only True values\n",
    "df_corr_mask = df_corr.mask(mask)\n",
    "df_corr_mask"
   ]
  },
  {
   "cell_type": "code",
   "execution_count": 70,
   "metadata": {},
   "outputs": [
    {
     "data": {
      "text/plain": [
       "1058"
      ]
     },
     "execution_count": 70,
     "metadata": {},
     "output_type": "execute_result"
    }
   ],
   "source": [
    "# List column names of highly correlated features (r > 0.95)\n",
    "lst_to_drop = [c for c in df_corr_mask.columns if any(df_corr_mask[c] > 0.90)]\n",
    "len(lst_to_drop)"
   ]
  },
  {
   "cell_type": "code",
   "execution_count": 72,
   "metadata": {},
   "outputs": [
    {
     "name": "stdout",
     "output_type": "stream",
     "text": [
      "The X_train_num_prcd dataframe has 654 columns\n"
     ]
    }
   ],
   "source": [
    "# Drop the features in the to_drop list\n",
    "X_train_num_prcd = X_train_num_prcd.drop(lst_to_drop, axis=1)\n",
    "\n",
    "print(\"The X_train_num_prcd dataframe has {} columns\".format(X_train_num_prcd.shape[1]))"
   ]
  },
  {
   "cell_type": "code",
   "execution_count": 74,
   "metadata": {
    "scrolled": true
   },
   "outputs": [
    {
     "ename": "KeyError",
     "evalue": "'target'",
     "output_type": "error",
     "traceback": [
      "\u001b[0;31m---------------------------------------------------------------------------\u001b[0m",
      "\u001b[0;31mKeyError\u001b[0m                                  Traceback (most recent call last)",
      "\u001b[0;32m/opt/anaconda3/lib/python3.7/site-packages/pandas/core/indexes/base.py\u001b[0m in \u001b[0;36mget_loc\u001b[0;34m(self, key, method, tolerance)\u001b[0m\n\u001b[1;32m   2896\u001b[0m             \u001b[0;32mtry\u001b[0m\u001b[0;34m:\u001b[0m\u001b[0;34m\u001b[0m\u001b[0;34m\u001b[0m\u001b[0m\n\u001b[0;32m-> 2897\u001b[0;31m                 \u001b[0;32mreturn\u001b[0m \u001b[0mself\u001b[0m\u001b[0;34m.\u001b[0m\u001b[0m_engine\u001b[0m\u001b[0;34m.\u001b[0m\u001b[0mget_loc\u001b[0m\u001b[0;34m(\u001b[0m\u001b[0mkey\u001b[0m\u001b[0;34m)\u001b[0m\u001b[0;34m\u001b[0m\u001b[0;34m\u001b[0m\u001b[0m\n\u001b[0m\u001b[1;32m   2898\u001b[0m             \u001b[0;32mexcept\u001b[0m \u001b[0mKeyError\u001b[0m\u001b[0;34m:\u001b[0m\u001b[0;34m\u001b[0m\u001b[0;34m\u001b[0m\u001b[0m\n",
      "\u001b[0;32mpandas/_libs/index.pyx\u001b[0m in \u001b[0;36mpandas._libs.index.IndexEngine.get_loc\u001b[0;34m()\u001b[0m\n",
      "\u001b[0;32mpandas/_libs/index.pyx\u001b[0m in \u001b[0;36mpandas._libs.index.IndexEngine.get_loc\u001b[0;34m()\u001b[0m\n",
      "\u001b[0;32mpandas/_libs/hashtable_class_helper.pxi\u001b[0m in \u001b[0;36mpandas._libs.hashtable.PyObjectHashTable.get_item\u001b[0;34m()\u001b[0m\n",
      "\u001b[0;32mpandas/_libs/hashtable_class_helper.pxi\u001b[0m in \u001b[0;36mpandas._libs.hashtable.PyObjectHashTable.get_item\u001b[0;34m()\u001b[0m\n",
      "\u001b[0;31mKeyError\u001b[0m: 'target'",
      "\nDuring handling of the above exception, another exception occurred:\n",
      "\u001b[0;31mKeyError\u001b[0m                                  Traceback (most recent call last)",
      "\u001b[0;32m<ipython-input-74-9e62e1ef4785>\u001b[0m in \u001b[0;36m<module>\u001b[0;34m\u001b[0m\n\u001b[1;32m      1\u001b[0m \u001b[0;31m#df_dataX.head()\u001b[0m\u001b[0;34m\u001b[0m\u001b[0;34m\u001b[0m\u001b[0;34m\u001b[0m\u001b[0m\n\u001b[0;32m----> 2\u001b[0;31m \u001b[0mX_train_num_prcd\u001b[0m\u001b[0;34m[\u001b[0m\u001b[0;34m'target'\u001b[0m\u001b[0;34m]\u001b[0m \u001b[0;34m=\u001b[0m \u001b[0mX_train\u001b[0m\u001b[0;34m[\u001b[0m\u001b[0;34m'target'\u001b[0m\u001b[0;34m]\u001b[0m\u001b[0;34m\u001b[0m\u001b[0;34m\u001b[0m\u001b[0m\n\u001b[0m",
      "\u001b[0;32m/opt/anaconda3/lib/python3.7/site-packages/pandas/core/frame.py\u001b[0m in \u001b[0;36m__getitem__\u001b[0;34m(self, key)\u001b[0m\n\u001b[1;32m   2978\u001b[0m             \u001b[0;32mif\u001b[0m \u001b[0mself\u001b[0m\u001b[0;34m.\u001b[0m\u001b[0mcolumns\u001b[0m\u001b[0;34m.\u001b[0m\u001b[0mnlevels\u001b[0m \u001b[0;34m>\u001b[0m \u001b[0;36m1\u001b[0m\u001b[0;34m:\u001b[0m\u001b[0;34m\u001b[0m\u001b[0;34m\u001b[0m\u001b[0m\n\u001b[1;32m   2979\u001b[0m                 \u001b[0;32mreturn\u001b[0m \u001b[0mself\u001b[0m\u001b[0;34m.\u001b[0m\u001b[0m_getitem_multilevel\u001b[0m\u001b[0;34m(\u001b[0m\u001b[0mkey\u001b[0m\u001b[0;34m)\u001b[0m\u001b[0;34m\u001b[0m\u001b[0;34m\u001b[0m\u001b[0m\n\u001b[0;32m-> 2980\u001b[0;31m             \u001b[0mindexer\u001b[0m \u001b[0;34m=\u001b[0m \u001b[0mself\u001b[0m\u001b[0;34m.\u001b[0m\u001b[0mcolumns\u001b[0m\u001b[0;34m.\u001b[0m\u001b[0mget_loc\u001b[0m\u001b[0;34m(\u001b[0m\u001b[0mkey\u001b[0m\u001b[0;34m)\u001b[0m\u001b[0;34m\u001b[0m\u001b[0;34m\u001b[0m\u001b[0m\n\u001b[0m\u001b[1;32m   2981\u001b[0m             \u001b[0;32mif\u001b[0m \u001b[0mis_integer\u001b[0m\u001b[0;34m(\u001b[0m\u001b[0mindexer\u001b[0m\u001b[0;34m)\u001b[0m\u001b[0;34m:\u001b[0m\u001b[0;34m\u001b[0m\u001b[0;34m\u001b[0m\u001b[0m\n\u001b[1;32m   2982\u001b[0m                 \u001b[0mindexer\u001b[0m \u001b[0;34m=\u001b[0m \u001b[0;34m[\u001b[0m\u001b[0mindexer\u001b[0m\u001b[0;34m]\u001b[0m\u001b[0;34m\u001b[0m\u001b[0;34m\u001b[0m\u001b[0m\n",
      "\u001b[0;32m/opt/anaconda3/lib/python3.7/site-packages/pandas/core/indexes/base.py\u001b[0m in \u001b[0;36mget_loc\u001b[0;34m(self, key, method, tolerance)\u001b[0m\n\u001b[1;32m   2897\u001b[0m                 \u001b[0;32mreturn\u001b[0m \u001b[0mself\u001b[0m\u001b[0;34m.\u001b[0m\u001b[0m_engine\u001b[0m\u001b[0;34m.\u001b[0m\u001b[0mget_loc\u001b[0m\u001b[0;34m(\u001b[0m\u001b[0mkey\u001b[0m\u001b[0;34m)\u001b[0m\u001b[0;34m\u001b[0m\u001b[0;34m\u001b[0m\u001b[0m\n\u001b[1;32m   2898\u001b[0m             \u001b[0;32mexcept\u001b[0m \u001b[0mKeyError\u001b[0m\u001b[0;34m:\u001b[0m\u001b[0;34m\u001b[0m\u001b[0;34m\u001b[0m\u001b[0m\n\u001b[0;32m-> 2899\u001b[0;31m                 \u001b[0;32mreturn\u001b[0m \u001b[0mself\u001b[0m\u001b[0;34m.\u001b[0m\u001b[0m_engine\u001b[0m\u001b[0;34m.\u001b[0m\u001b[0mget_loc\u001b[0m\u001b[0;34m(\u001b[0m\u001b[0mself\u001b[0m\u001b[0;34m.\u001b[0m\u001b[0m_maybe_cast_indexer\u001b[0m\u001b[0;34m(\u001b[0m\u001b[0mkey\u001b[0m\u001b[0;34m)\u001b[0m\u001b[0;34m)\u001b[0m\u001b[0;34m\u001b[0m\u001b[0;34m\u001b[0m\u001b[0m\n\u001b[0m\u001b[1;32m   2900\u001b[0m         \u001b[0mindexer\u001b[0m \u001b[0;34m=\u001b[0m \u001b[0mself\u001b[0m\u001b[0;34m.\u001b[0m\u001b[0mget_indexer\u001b[0m\u001b[0;34m(\u001b[0m\u001b[0;34m[\u001b[0m\u001b[0mkey\u001b[0m\u001b[0;34m]\u001b[0m\u001b[0;34m,\u001b[0m \u001b[0mmethod\u001b[0m\u001b[0;34m=\u001b[0m\u001b[0mmethod\u001b[0m\u001b[0;34m,\u001b[0m \u001b[0mtolerance\u001b[0m\u001b[0;34m=\u001b[0m\u001b[0mtolerance\u001b[0m\u001b[0;34m)\u001b[0m\u001b[0;34m\u001b[0m\u001b[0;34m\u001b[0m\u001b[0m\n\u001b[1;32m   2901\u001b[0m         \u001b[0;32mif\u001b[0m \u001b[0mindexer\u001b[0m\u001b[0;34m.\u001b[0m\u001b[0mndim\u001b[0m \u001b[0;34m>\u001b[0m \u001b[0;36m1\u001b[0m \u001b[0;32mor\u001b[0m \u001b[0mindexer\u001b[0m\u001b[0;34m.\u001b[0m\u001b[0msize\u001b[0m \u001b[0;34m>\u001b[0m \u001b[0;36m1\u001b[0m\u001b[0;34m:\u001b[0m\u001b[0;34m\u001b[0m\u001b[0;34m\u001b[0m\u001b[0m\n",
      "\u001b[0;32mpandas/_libs/index.pyx\u001b[0m in \u001b[0;36mpandas._libs.index.IndexEngine.get_loc\u001b[0;34m()\u001b[0m\n",
      "\u001b[0;32mpandas/_libs/index.pyx\u001b[0m in \u001b[0;36mpandas._libs.index.IndexEngine.get_loc\u001b[0;34m()\u001b[0m\n",
      "\u001b[0;32mpandas/_libs/hashtable_class_helper.pxi\u001b[0m in \u001b[0;36mpandas._libs.hashtable.PyObjectHashTable.get_item\u001b[0;34m()\u001b[0m\n",
      "\u001b[0;32mpandas/_libs/hashtable_class_helper.pxi\u001b[0m in \u001b[0;36mpandas._libs.hashtable.PyObjectHashTable.get_item\u001b[0;34m()\u001b[0m\n",
      "\u001b[0;31mKeyError\u001b[0m: 'target'"
     ]
    }
   ],
   "source": [
    "#df_dataX.head()\n",
    "X_train_num_prcd['target'] = y_train['target']"
   ]
  },
  {
   "cell_type": "code",
   "execution_count": null,
   "metadata": {},
   "outputs": [],
   "source": [
    "df_processed = pd.concat([X_train_num_prcd_obj, X_train_num_prcd], axis=1)\n",
    "df_processed.shape"
   ]
  },
  {
   "cell_type": "code",
   "execution_count": null,
   "metadata": {},
   "outputs": [],
   "source": [
    "df_processed.to_pickle(sDir + 'step02_data.pkl')"
   ]
  },
  {
   "cell_type": "code",
   "execution_count": 76,
   "metadata": {},
   "outputs": [
    {
     "data": {
      "text/html": [
       "<div>\n",
       "<style scoped>\n",
       "    .dataframe tbody tr th:only-of-type {\n",
       "        vertical-align: middle;\n",
       "    }\n",
       "\n",
       "    .dataframe tbody tr th {\n",
       "        vertical-align: top;\n",
       "    }\n",
       "\n",
       "    .dataframe thead th {\n",
       "        text-align: right;\n",
       "    }\n",
       "</style>\n",
       "<table border=\"1\" class=\"dataframe\">\n",
       "  <thead>\n",
       "    <tr style=\"text-align: right;\">\n",
       "      <th></th>\n",
       "      <th>target</th>\n",
       "    </tr>\n",
       "  </thead>\n",
       "  <tbody>\n",
       "    <tr>\n",
       "      <td>1438</td>\n",
       "      <td>0</td>\n",
       "    </tr>\n",
       "    <tr>\n",
       "      <td>70125</td>\n",
       "      <td>0</td>\n",
       "    </tr>\n",
       "    <tr>\n",
       "      <td>13800</td>\n",
       "      <td>0</td>\n",
       "    </tr>\n",
       "    <tr>\n",
       "      <td>7676</td>\n",
       "      <td>0</td>\n",
       "    </tr>\n",
       "    <tr>\n",
       "      <td>23219</td>\n",
       "      <td>0</td>\n",
       "    </tr>\n",
       "  </tbody>\n",
       "</table>\n",
       "</div>"
      ],
      "text/plain": [
       "       target\n",
       "1438        0\n",
       "70125       0\n",
       "13800       0\n",
       "7676        0\n",
       "23219       0"
      ]
     },
     "execution_count": 76,
     "metadata": {},
     "output_type": "execute_result"
    }
   ],
   "source": [
    "#del(df_dataX)"
   ]
  },
  {
   "cell_type": "markdown",
   "metadata": {},
   "source": [
    "### Misc"
   ]
  }
 ],
 "metadata": {
  "kernelspec": {
   "display_name": "Python 3",
   "language": "python",
   "name": "python3"
  },
  "language_info": {
   "codemirror_mode": {
    "name": "ipython",
    "version": 3
   },
   "file_extension": ".py",
   "mimetype": "text/x-python",
   "name": "python",
   "nbconvert_exporter": "python",
   "pygments_lexer": "ipython3",
   "version": "3.8.3"
  }
 },
 "nbformat": 4,
 "nbformat_minor": 2
}
