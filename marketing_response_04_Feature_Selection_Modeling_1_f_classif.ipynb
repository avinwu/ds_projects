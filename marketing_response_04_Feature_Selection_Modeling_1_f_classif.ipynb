{
 "cells": [
  {
   "cell_type": "markdown",
   "metadata": {},
   "source": [
    "## Model-1\n",
    "- **Feature Selection** : f_classif()\n",
    "- **Modeling** - Logistic Regression, GradientBoostClassifier"
   ]
  },
  {
   "cell_type": "code",
   "execution_count": 1,
   "metadata": {},
   "outputs": [],
   "source": [
    "import warnings\n",
    "warnings.filterwarnings('ignore')\n",
    "import pandas as pd\n",
    "import numpy as np\n",
    "from sklearn.model_selection import train_test_split\n",
    "from sklearn.feature_selection import f_classif\n",
    "from sklearn.ensemble import GradientBoostingClassifier, RandomForestClassifier\n",
    "from sklearn.linear_model import LogisticRegression\n",
    "import matplotlib.pyplot as plt\n",
    "#%matplotlib.inline"
   ]
  },
  {
   "cell_type": "code",
   "execution_count": 2,
   "metadata": {},
   "outputs": [],
   "source": [
    "sDir = '/home/pabhijit/data/'"
   ]
  },
  {
   "cell_type": "code",
   "execution_count": 3,
   "metadata": {},
   "outputs": [],
   "source": [
    "def get_evaluation_matrices(y_actual, y_predicted, y_pred_prob_pos):\n",
    "    import matplotlib.pyplot as plt\n",
    "    from sklearn.metrics import classification_report,confusion_matrix,accuracy_score,roc_curve,roc_auc_score,auc\n",
    "\n",
    "    # Accuracy Score\n",
    "    print('----------------- Accuracy Score ----------------------------------')\n",
    "    print('Accuracy Score : ', accuracy_score(y_actual, y_predicted).round(4))\n",
    "\n",
    "    # Confusion Matrix\n",
    "    print('\\n----------------- Confusion Matrix --------------------------------')\n",
    "    \n",
    "    cmx = confusion_matrix(y_actual, y_predicted)\n",
    "    '''\n",
    "    f, ax = plt.subplots(figsize=(10, 6))\n",
    "    sns.heatmap(cmx, annot=True, fmt=\"d\", linewidths=.5, ax=ax)\n",
    "    plt.title(\"Confusion Matrix\", fontsize=20)\n",
    "    ax.set_yticks(np.arange(cmx.shape[0]) + 0.5, minor=False)\n",
    "    ax.set_xticklabels(\"\")\n",
    "    #ax.set_yticklabels(['Fraudaulant Transaction', 'Valid Transaction'], fontsize=16, rotation=360)\n",
    "    plt.show()\n",
    "    '''\t\n",
    "    print(cmx)\n",
    "\n",
    "\n",
    "    tn = cmx[0,0]  # True  Negative\n",
    "    fp = cmx[0,1]  # False Positive\n",
    "    fn = cmx[1,0]  # False Negative\n",
    "    tp = cmx[1,1]  # True  Positive\n",
    "\n",
    "    print('\\n----------------- TP,FP,TN,FN -------------------------------------')\n",
    "    print('True  Positive : ', tp)\n",
    "    print('False Positive : ', fp)\n",
    "    print('True  Negative : ', tn)\n",
    "    print('False Negative : ', fn)\n",
    "    print('Number of Correct Predictions   (TP + TN) : ', tp + tn)\n",
    "    print('Number of Incorrect Predictions (FP + FN) : ', fp + fn)\n",
    "\n",
    "    print('\\n----------------- Precision/Recall/F1-Score -----------------------')\n",
    "    precision = tp/(tp + fp)\n",
    "    recall = tp/(tp + fn)\n",
    "    f1_score = 2 * (precision * recall) / (precision + recall)\n",
    "\n",
    "    print('Precision          : ', precision.round(4))\n",
    "    print('Recall/Sensitivity : ', recall.round(4))\n",
    "    print('F1 Score           : ', f1_score.round(4))\n",
    "\n",
    "\n",
    "    # Classification Report\n",
    "    print('\\n----------------- Classification Report ---------------------------')\n",
    "    print(classification_report(y_actual, y_predicted))\n",
    "\n",
    "    \n",
    "    #### ROC Curve\n",
    "    print('\\n----------------- ROC Curve ---------------------------------------')\n",
    "    '''\n",
    "    - Every prediction the classifier makes has an associated probability.\n",
    "    - Default probability threshold in scikit-learn is 50%\n",
    "    - By default if the probability is \n",
    "        - more than 50%, then the will predict the data point belonging to positive class.\n",
    "        - less than 50%, then the will predict the data point belonging to negative class.\n",
    "    '''\n",
    "\n",
    "    # Calculate the roc metrics\n",
    "    fpr, tpr, thresholds = roc_curve(y_actual, y_pred_prob_pos)\n",
    "\n",
    "    # Plot the ROC curve\n",
    "    plt.plot(fpr,tpr);\n",
    "    plt.xlabel(\"False Positive Rate\")\n",
    "    plt.ylabel(\"True Positive Rate\")\n",
    "    plt.plot([0, 1], [0, 1], \"k--\")\n",
    "    plt.show()\n",
    "\n",
    "    print('\\n----------------- ROC AUC Score -----------------------------------')\n",
    "    # Print the AUC\n",
    "    print('ROC AUC Score : ', roc_auc_score(y_actual,y_pred_prob_pos).round(4))"
   ]
  },
  {
   "cell_type": "code",
   "execution_count": 4,
   "metadata": {},
   "outputs": [
    {
     "data": {
      "text/plain": [
       "(290463, 1591)"
      ]
     },
     "execution_count": 4,
     "metadata": {},
     "output_type": "execute_result"
    }
   ],
   "source": [
    "df_obj = pd.read_pickle(sDir + 'step03_object.pkl')\n",
    "df_num = pd.read_pickle(sDir + 'step03_numeric.pkl')\n",
    "df_data = pd.concat([df_obj, df_num], axis=1)\n",
    "del (df_obj, df_num)\n",
    "df_data.shape"
   ]
  },
  {
   "cell_type": "code",
   "execution_count": 5,
   "metadata": {},
   "outputs": [
    {
     "data": {
      "text/html": [
       "<div>\n",
       "<style scoped>\n",
       "    .dataframe tbody tr th:only-of-type {\n",
       "        vertical-align: middle;\n",
       "    }\n",
       "\n",
       "    .dataframe tbody tr th {\n",
       "        vertical-align: top;\n",
       "    }\n",
       "\n",
       "    .dataframe thead th {\n",
       "        text-align: right;\n",
       "    }\n",
       "</style>\n",
       "<table border=\"1\" class=\"dataframe\">\n",
       "  <thead>\n",
       "    <tr style=\"text-align: right;\">\n",
       "      <th></th>\n",
       "      <th>VAR_0001_Q</th>\n",
       "      <th>VAR_0001_R</th>\n",
       "      <th>VAR_0005_C</th>\n",
       "      <th>VAR_0005_N</th>\n",
       "      <th>VAR_0005_S</th>\n",
       "      <th>VAR_0226_True</th>\n",
       "      <th>VAR_0230_True</th>\n",
       "      <th>VAR_0232_True</th>\n",
       "      <th>VAR_0236_True</th>\n",
       "      <th>VAR_0283_F</th>\n",
       "      <th>...</th>\n",
       "      <th>VAR_0859</th>\n",
       "      <th>VAR_0874</th>\n",
       "      <th>VAR_0886</th>\n",
       "      <th>VAR_0992</th>\n",
       "      <th>VAR_1008</th>\n",
       "      <th>VAR_1011</th>\n",
       "      <th>VAR_1531</th>\n",
       "      <th>VAR_1760</th>\n",
       "      <th>VAR_1824</th>\n",
       "      <th>target</th>\n",
       "    </tr>\n",
       "  </thead>\n",
       "  <tbody>\n",
       "    <tr>\n",
       "      <td>0</td>\n",
       "      <td>0.0</td>\n",
       "      <td>0.0</td>\n",
       "      <td>1.0</td>\n",
       "      <td>0.0</td>\n",
       "      <td>0.0</td>\n",
       "      <td>0.0</td>\n",
       "      <td>0.0</td>\n",
       "      <td>1.0</td>\n",
       "      <td>1.0</td>\n",
       "      <td>0.0</td>\n",
       "      <td>...</td>\n",
       "      <td>-99999</td>\n",
       "      <td>-99999</td>\n",
       "      <td>89</td>\n",
       "      <td>5</td>\n",
       "      <td>16</td>\n",
       "      <td>20</td>\n",
       "      <td>89</td>\n",
       "      <td>10</td>\n",
       "      <td>62</td>\n",
       "      <td>0.0</td>\n",
       "    </tr>\n",
       "    <tr>\n",
       "      <td>1</td>\n",
       "      <td>0.0</td>\n",
       "      <td>0.0</td>\n",
       "      <td>0.0</td>\n",
       "      <td>0.0</td>\n",
       "      <td>0.0</td>\n",
       "      <td>0.0</td>\n",
       "      <td>0.0</td>\n",
       "      <td>0.0</td>\n",
       "      <td>1.0</td>\n",
       "      <td>0.0</td>\n",
       "      <td>...</td>\n",
       "      <td>88</td>\n",
       "      <td>-99999</td>\n",
       "      <td>95</td>\n",
       "      <td>15</td>\n",
       "      <td>9</td>\n",
       "      <td>21</td>\n",
       "      <td>59</td>\n",
       "      <td>14</td>\n",
       "      <td>65</td>\n",
       "      <td>0.0</td>\n",
       "    </tr>\n",
       "    <tr>\n",
       "      <td>2</td>\n",
       "      <td>0.0</td>\n",
       "      <td>0.0</td>\n",
       "      <td>1.0</td>\n",
       "      <td>0.0</td>\n",
       "      <td>0.0</td>\n",
       "      <td>0.0</td>\n",
       "      <td>0.0</td>\n",
       "      <td>1.0</td>\n",
       "      <td>1.0</td>\n",
       "      <td>0.0</td>\n",
       "      <td>...</td>\n",
       "      <td>-99999</td>\n",
       "      <td>-99999</td>\n",
       "      <td>82</td>\n",
       "      <td>7</td>\n",
       "      <td>12</td>\n",
       "      <td>13</td>\n",
       "      <td>73</td>\n",
       "      <td>4</td>\n",
       "      <td>997</td>\n",
       "      <td>0.0</td>\n",
       "    </tr>\n",
       "    <tr>\n",
       "      <td>3</td>\n",
       "      <td>0.0</td>\n",
       "      <td>0.0</td>\n",
       "      <td>1.0</td>\n",
       "      <td>0.0</td>\n",
       "      <td>0.0</td>\n",
       "      <td>0.0</td>\n",
       "      <td>0.0</td>\n",
       "      <td>0.0</td>\n",
       "      <td>1.0</td>\n",
       "      <td>0.0</td>\n",
       "      <td>...</td>\n",
       "      <td>10</td>\n",
       "      <td>1</td>\n",
       "      <td>72</td>\n",
       "      <td>26</td>\n",
       "      <td>45</td>\n",
       "      <td>47</td>\n",
       "      <td>55</td>\n",
       "      <td>7</td>\n",
       "      <td>95</td>\n",
       "      <td>0.0</td>\n",
       "    </tr>\n",
       "    <tr>\n",
       "      <td>4</td>\n",
       "      <td>0.0</td>\n",
       "      <td>1.0</td>\n",
       "      <td>0.0</td>\n",
       "      <td>1.0</td>\n",
       "      <td>0.0</td>\n",
       "      <td>0.0</td>\n",
       "      <td>0.0</td>\n",
       "      <td>1.0</td>\n",
       "      <td>1.0</td>\n",
       "      <td>0.0</td>\n",
       "      <td>...</td>\n",
       "      <td>37</td>\n",
       "      <td>-99999</td>\n",
       "      <td>81</td>\n",
       "      <td>13</td>\n",
       "      <td>7</td>\n",
       "      <td>15</td>\n",
       "      <td>67</td>\n",
       "      <td>13</td>\n",
       "      <td>76</td>\n",
       "      <td>1.0</td>\n",
       "    </tr>\n",
       "  </tbody>\n",
       "</table>\n",
       "<p>5 rows × 1591 columns</p>\n",
       "</div>"
      ],
      "text/plain": [
       "   VAR_0001_Q  VAR_0001_R  VAR_0005_C  VAR_0005_N  VAR_0005_S  VAR_0226_True  \\\n",
       "0         0.0         0.0         1.0         0.0         0.0            0.0   \n",
       "1         0.0         0.0         0.0         0.0         0.0            0.0   \n",
       "2         0.0         0.0         1.0         0.0         0.0            0.0   \n",
       "3         0.0         0.0         1.0         0.0         0.0            0.0   \n",
       "4         0.0         1.0         0.0         1.0         0.0            0.0   \n",
       "\n",
       "   VAR_0230_True  VAR_0232_True  VAR_0236_True  VAR_0283_F  ...  VAR_0859  \\\n",
       "0            0.0            1.0            1.0         0.0  ...    -99999   \n",
       "1            0.0            0.0            1.0         0.0  ...        88   \n",
       "2            0.0            1.0            1.0         0.0  ...    -99999   \n",
       "3            0.0            0.0            1.0         0.0  ...        10   \n",
       "4            0.0            1.0            1.0         0.0  ...        37   \n",
       "\n",
       "   VAR_0874  VAR_0886  VAR_0992  VAR_1008  VAR_1011  VAR_1531  VAR_1760  \\\n",
       "0    -99999        89         5        16        20        89        10   \n",
       "1    -99999        95        15         9        21        59        14   \n",
       "2    -99999        82         7        12        13        73         4   \n",
       "3         1        72        26        45        47        55         7   \n",
       "4    -99999        81        13         7        15        67        13   \n",
       "\n",
       "   VAR_1824  target  \n",
       "0        62     0.0  \n",
       "1        65     0.0  \n",
       "2       997     0.0  \n",
       "3        95     0.0  \n",
       "4        76     1.0  \n",
       "\n",
       "[5 rows x 1591 columns]"
      ]
     },
     "execution_count": 5,
     "metadata": {},
     "output_type": "execute_result"
    }
   ],
   "source": [
    "df_data.head()"
   ]
  },
  {
   "cell_type": "code",
   "execution_count": 6,
   "metadata": {},
   "outputs": [
    {
     "data": {
      "text/plain": [
       "0.0    111458\n",
       "1.0     33773\n",
       "Name: target, dtype: int64"
      ]
     },
     "execution_count": 6,
     "metadata": {},
     "output_type": "execute_result"
    }
   ],
   "source": [
    "df_data['target'].value_counts()"
   ]
  },
  {
   "cell_type": "code",
   "execution_count": 7,
   "metadata": {},
   "outputs": [
    {
     "data": {
      "text/plain": [
       "(145231, 1591)"
      ]
     },
     "execution_count": 7,
     "metadata": {},
     "output_type": "execute_result"
    }
   ],
   "source": [
    "df_train = df_data[df_data['target'].notnull()]\n",
    "df_train.shape"
   ]
  },
  {
   "cell_type": "code",
   "execution_count": 8,
   "metadata": {},
   "outputs": [
    {
     "data": {
      "text/plain": [
       "(145232, 1590)"
      ]
     },
     "execution_count": 8,
     "metadata": {},
     "output_type": "execute_result"
    }
   ],
   "source": [
    "df_test = df_data[df_data['target'].isnull()]\n",
    "df_test.drop('target', axis=1, inplace=True)\n",
    "df_test.shape"
   ]
  },
  {
   "cell_type": "code",
   "execution_count": 9,
   "metadata": {},
   "outputs": [
    {
     "data": {
      "text/plain": [
       "(145231, 1590)"
      ]
     },
     "execution_count": 9,
     "metadata": {},
     "output_type": "execute_result"
    }
   ],
   "source": [
    "df_y = df_train[['target']].astype(int)\n",
    "df_x = df_train.drop(['target'], axis=1)\n",
    "df_x.shape"
   ]
  },
  {
   "cell_type": "markdown",
   "metadata": {},
   "source": [
    "#### Get Top Features"
   ]
  },
  {
   "cell_type": "code",
   "execution_count": 10,
   "metadata": {},
   "outputs": [
    {
     "name": "stdout",
     "output_type": "stream",
     "text": [
      "CPU times: user 4.17 s, sys: 9.06 s, total: 13.2 s\n",
      "Wall time: 13.4 s\n"
     ]
    }
   ],
   "source": [
    "%%time\n",
    "from sklearn.feature_selection import SelectKBest, chi2, f_classif\n",
    "\n",
    "# chi2 \n",
    "# This errored out with message, X needs to be non negative\n",
    "# https://scikit-learn.org/stable/modules/feature_selection.html#univariate-feature-selection\n",
    "#X_new = SelectKBest(chi2, k=100).fit_transform(df_x, df_y)\n",
    "#X_new.shape\n",
    "\n",
    "\n",
    "# f_classif\n",
    "#https://scikit-learn.org/stable/auto_examples/feature_selection/plot_feature_selection.html#sphx-glr-auto-examples-feature-selection-plot-feature-selection-py\n",
    "#https://chrisalbon.com/machine_learning/feature_selection/anova_f-value_for_feature_selection/\n",
    "\n",
    "selector = SelectKBest(f_classif, k=100)\n",
    "#selector.fit(df_x, df_y)\n",
    "#scores = -np.log10(selector.pvalues_)\n",
    "#scores /= scores.max()\n",
    "\n",
    "# Apply the SelectKBest object to the features and target\n",
    "X_kbest = selector.fit_transform(df_x, df_y)"
   ]
  },
  {
   "cell_type": "code",
   "execution_count": 11,
   "metadata": {},
   "outputs": [
    {
     "name": "stdout",
     "output_type": "stream",
     "text": [
      "Original number of features: 1591\n",
      "Reduced number of features: 100\n"
     ]
    }
   ],
   "source": [
    "# Show results\n",
    "print('Original number of features:', df_train.shape[1])\n",
    "print('Reduced number of features:', X_kbest.shape[1])"
   ]
  },
  {
   "cell_type": "code",
   "execution_count": 12,
   "metadata": {},
   "outputs": [
    {
     "data": {
      "text/plain": [
       "array([False, False, False, ..., False, False,  True])"
      ]
     },
     "execution_count": 12,
     "metadata": {},
     "output_type": "execute_result"
    }
   ],
   "source": [
    "# Create a mask using an attribute of rfe\n",
    "#mask = rfe.support_\n",
    "\n",
    "mask = selector.get_support()\n",
    "mask"
   ]
  },
  {
   "cell_type": "code",
   "execution_count": 13,
   "metadata": {},
   "outputs": [
    {
     "data": {
      "text/plain": [
       "Index(['VAR_0232_True', 'VAR_1934_IAPS', 'VAR_0073_yy', 'VAR_0075_yy',\n",
       "       'VAR_0073_mm', 'VAR_0853_1', 'VAR_0853_0', 'VAR_0854_1', 'VAR_0854_0',\n",
       "       'VAR_0969_96', 'VAR_1022_0', 'VAR_1829_0', 'VAR_1830_0', 'VAR_0065_1',\n",
       "       'VAR_0074_2500', 'VAR_0083_1', 'VAR_0086_1', 'VAR_0087_1', 'VAR_0101_0',\n",
       "       'VAR_0103_0', 'VAR_0109_0', 'VAR_0111_0', 'VAR_0117_0', 'VAR_0119_0',\n",
       "       'VAR_0141_0', 'VAR_0160_0', 'VAR_0164_0', 'VAR_0170_0', 'VAR_0172_0',\n",
       "       'VAR_0174_0', 'VAR_0224_1', 'VAR_0225_1', 'VAR_0238_1', 'VAR_0503_0',\n",
       "       'VAR_0505_0', 'VAR_0505_1', 'VAR_0511_0', 'VAR_0545_1', 'VAR_0626_0',\n",
       "       'VAR_0631_0', 'VAR_0632_9998', 'VAR_0636_9998', 'VAR_0730_0',\n",
       "       'VAR_0795_0', 'VAR_0885_100', 'VAR_0885_0', 'VAR_0918_0', 'VAR_0919_0',\n",
       "       'VAR_0942_9996', 'VAR_0946_999999998', 'VAR_0972_1', 'VAR_0973_0',\n",
       "       'VAR_1007_0', 'VAR_1021_0', 'VAR_1021_96', 'VAR_1046_0', 'VAR_1047_0',\n",
       "       'VAR_1080_96', 'VAR_1086_0', 'VAR_1089_0', 'VAR_1099_400', 'VAR_1099_1',\n",
       "       'VAR_1100_1', 'VAR_1103_1', 'VAR_1104_1', 'VAR_1104_400', 'VAR_1105_1',\n",
       "       'VAR_1105_400', 'VAR_1106_400', 'VAR_1106_1', 'VAR_1107_400',\n",
       "       'VAR_1107_1', 'VAR_1115_0', 'VAR_1129_100', 'VAR_1135_0',\n",
       "       'VAR_1141_9996', 'VAR_1264_9996', 'VAR_1326_1', 'VAR_1332_994',\n",
       "       'VAR_1387_0', 'VAR_1388_0', 'VAR_1389_0', 'VAR_1390_0', 'VAR_1391_9998',\n",
       "       'VAR_1576_0', 'VAR_1579_0', 'VAR_1816_1', 'VAR_1819_1', 'VAR_1820_1',\n",
       "       'VAR_1822_1', 'VAR_1837_0', 'VAR_1840_9996', 'VAR_1872_0', 'VAR_1897_1',\n",
       "       'VAR_0900', 'VAR_0907', 'VAR_0970', 'VAR_0722', 'VAR_0886', 'VAR_1824'],\n",
       "      dtype='object')"
      ]
     },
     "execution_count": 13,
     "metadata": {},
     "output_type": "execute_result"
    }
   ],
   "source": [
    "df_x_kbest = df_x.loc[:, mask]\n",
    "idxKbestFeatrs = df_x_kbest.columns\n",
    "idxKbestFeatrs"
   ]
  },
  {
   "cell_type": "code",
   "execution_count": 14,
   "metadata": {},
   "outputs": [
    {
     "data": {
      "text/html": [
       "<div>\n",
       "<style scoped>\n",
       "    .dataframe tbody tr th:only-of-type {\n",
       "        vertical-align: middle;\n",
       "    }\n",
       "\n",
       "    .dataframe tbody tr th {\n",
       "        vertical-align: top;\n",
       "    }\n",
       "\n",
       "    .dataframe thead th {\n",
       "        text-align: right;\n",
       "    }\n",
       "</style>\n",
       "<table border=\"1\" class=\"dataframe\">\n",
       "  <thead>\n",
       "    <tr style=\"text-align: right;\">\n",
       "      <th></th>\n",
       "      <th>VAR_0232_True</th>\n",
       "      <th>VAR_1934_IAPS</th>\n",
       "      <th>VAR_0073_yy</th>\n",
       "      <th>VAR_0075_yy</th>\n",
       "      <th>VAR_0073_mm</th>\n",
       "      <th>VAR_0853_1</th>\n",
       "      <th>VAR_0853_0</th>\n",
       "      <th>VAR_0854_1</th>\n",
       "      <th>VAR_0854_0</th>\n",
       "      <th>VAR_0969_96</th>\n",
       "      <th>...</th>\n",
       "      <th>VAR_1837_0</th>\n",
       "      <th>VAR_1840_9996</th>\n",
       "      <th>VAR_1872_0</th>\n",
       "      <th>VAR_1897_1</th>\n",
       "      <th>VAR_0900</th>\n",
       "      <th>VAR_0907</th>\n",
       "      <th>VAR_0970</th>\n",
       "      <th>VAR_0722</th>\n",
       "      <th>VAR_0886</th>\n",
       "      <th>VAR_1824</th>\n",
       "    </tr>\n",
       "  </thead>\n",
       "  <tbody>\n",
       "    <tr>\n",
       "      <td>0</td>\n",
       "      <td>1.0</td>\n",
       "      <td>1.0</td>\n",
       "      <td>1.0</td>\n",
       "      <td>9.0</td>\n",
       "      <td>3</td>\n",
       "      <td>0</td>\n",
       "      <td>0</td>\n",
       "      <td>0</td>\n",
       "      <td>0</td>\n",
       "      <td>0</td>\n",
       "      <td>...</td>\n",
       "      <td>0</td>\n",
       "      <td>1</td>\n",
       "      <td>0</td>\n",
       "      <td>0</td>\n",
       "      <td>80000</td>\n",
       "      <td>80000</td>\n",
       "      <td>76857</td>\n",
       "      <td>3</td>\n",
       "      <td>89</td>\n",
       "      <td>62</td>\n",
       "    </tr>\n",
       "    <tr>\n",
       "      <td>1</td>\n",
       "      <td>0.0</td>\n",
       "      <td>1.0</td>\n",
       "      <td>4.0</td>\n",
       "      <td>9.0</td>\n",
       "      <td>9</td>\n",
       "      <td>1</td>\n",
       "      <td>0</td>\n",
       "      <td>1</td>\n",
       "      <td>0</td>\n",
       "      <td>0</td>\n",
       "      <td>...</td>\n",
       "      <td>0</td>\n",
       "      <td>1</td>\n",
       "      <td>0</td>\n",
       "      <td>1</td>\n",
       "      <td>5528</td>\n",
       "      <td>8301</td>\n",
       "      <td>5296</td>\n",
       "      <td>9</td>\n",
       "      <td>95</td>\n",
       "      <td>65</td>\n",
       "    </tr>\n",
       "    <tr>\n",
       "      <td>2</td>\n",
       "      <td>1.0</td>\n",
       "      <td>1.0</td>\n",
       "      <td>1.0</td>\n",
       "      <td>9.0</td>\n",
       "      <td>3</td>\n",
       "      <td>0</td>\n",
       "      <td>0</td>\n",
       "      <td>0</td>\n",
       "      <td>0</td>\n",
       "      <td>0</td>\n",
       "      <td>...</td>\n",
       "      <td>0</td>\n",
       "      <td>1</td>\n",
       "      <td>0</td>\n",
       "      <td>1</td>\n",
       "      <td>-99999</td>\n",
       "      <td>-99999</td>\n",
       "      <td>999999997</td>\n",
       "      <td>2</td>\n",
       "      <td>82</td>\n",
       "      <td>997</td>\n",
       "    </tr>\n",
       "    <tr>\n",
       "      <td>3</td>\n",
       "      <td>0.0</td>\n",
       "      <td>0.0</td>\n",
       "      <td>1.0</td>\n",
       "      <td>8.0</td>\n",
       "      <td>3</td>\n",
       "      <td>0</td>\n",
       "      <td>0</td>\n",
       "      <td>0</td>\n",
       "      <td>0</td>\n",
       "      <td>0</td>\n",
       "      <td>...</td>\n",
       "      <td>1</td>\n",
       "      <td>0</td>\n",
       "      <td>0</td>\n",
       "      <td>0</td>\n",
       "      <td>300</td>\n",
       "      <td>600</td>\n",
       "      <td>6313</td>\n",
       "      <td>16</td>\n",
       "      <td>72</td>\n",
       "      <td>95</td>\n",
       "    </tr>\n",
       "    <tr>\n",
       "      <td>4</td>\n",
       "      <td>1.0</td>\n",
       "      <td>0.0</td>\n",
       "      <td>1.0</td>\n",
       "      <td>9.0</td>\n",
       "      <td>3</td>\n",
       "      <td>0</td>\n",
       "      <td>0</td>\n",
       "      <td>0</td>\n",
       "      <td>0</td>\n",
       "      <td>0</td>\n",
       "      <td>...</td>\n",
       "      <td>0</td>\n",
       "      <td>1</td>\n",
       "      <td>0</td>\n",
       "      <td>1</td>\n",
       "      <td>10603</td>\n",
       "      <td>13840</td>\n",
       "      <td>13576</td>\n",
       "      <td>4</td>\n",
       "      <td>81</td>\n",
       "      <td>76</td>\n",
       "    </tr>\n",
       "  </tbody>\n",
       "</table>\n",
       "<p>5 rows × 100 columns</p>\n",
       "</div>"
      ],
      "text/plain": [
       "   VAR_0232_True  VAR_1934_IAPS  VAR_0073_yy  VAR_0075_yy  VAR_0073_mm  \\\n",
       "0            1.0            1.0          1.0          9.0            3   \n",
       "1            0.0            1.0          4.0          9.0            9   \n",
       "2            1.0            1.0          1.0          9.0            3   \n",
       "3            0.0            0.0          1.0          8.0            3   \n",
       "4            1.0            0.0          1.0          9.0            3   \n",
       "\n",
       "   VAR_0853_1  VAR_0853_0  VAR_0854_1  VAR_0854_0  VAR_0969_96  ...  \\\n",
       "0           0           0           0           0            0  ...   \n",
       "1           1           0           1           0            0  ...   \n",
       "2           0           0           0           0            0  ...   \n",
       "3           0           0           0           0            0  ...   \n",
       "4           0           0           0           0            0  ...   \n",
       "\n",
       "   VAR_1837_0  VAR_1840_9996  VAR_1872_0  VAR_1897_1  VAR_0900  VAR_0907  \\\n",
       "0           0              1           0           0     80000     80000   \n",
       "1           0              1           0           1      5528      8301   \n",
       "2           0              1           0           1    -99999    -99999   \n",
       "3           1              0           0           0       300       600   \n",
       "4           0              1           0           1     10603     13840   \n",
       "\n",
       "    VAR_0970  VAR_0722  VAR_0886  VAR_1824  \n",
       "0      76857         3        89        62  \n",
       "1       5296         9        95        65  \n",
       "2  999999997         2        82       997  \n",
       "3       6313        16        72        95  \n",
       "4      13576         4        81        76  \n",
       "\n",
       "[5 rows x 100 columns]"
      ]
     },
     "execution_count": 14,
     "metadata": {},
     "output_type": "execute_result"
    }
   ],
   "source": [
    "df_x_kbest.head()"
   ]
  },
  {
   "cell_type": "markdown",
   "metadata": {},
   "source": [
    "#### Train Test Split"
   ]
  },
  {
   "cell_type": "code",
   "execution_count": 15,
   "metadata": {},
   "outputs": [],
   "source": [
    "df_X_train, df_X_test, df_y_train, df_y_test = train_test_split(df_x_kbest, df_y, test_size=.3, random_state=123)"
   ]
  },
  {
   "cell_type": "code",
   "execution_count": 17,
   "metadata": {},
   "outputs": [
    {
     "data": {
      "text/plain": [
       "(101661, 100)"
      ]
     },
     "execution_count": 17,
     "metadata": {},
     "output_type": "execute_result"
    }
   ],
   "source": [
    "#df_x_train = df_x_train.iloc[:,:50]\n",
    "df_X_train.shape"
   ]
  },
  {
   "cell_type": "markdown",
   "metadata": {},
   "source": [
    "### Model-1 : Logistic Regression"
   ]
  },
  {
   "cell_type": "code",
   "execution_count": 18,
   "metadata": {},
   "outputs": [
    {
     "name": "stdout",
     "output_type": "stream",
     "text": [
      "----------------- Accuracy Score ----------------------------------\n",
      "Accuracy Score :  0.6481\n",
      "\n",
      "----------------- Confusion Matrix --------------------------------\n",
      "[[25992  7427]\n",
      " [ 7905  2246]]\n",
      "\n",
      "----------------- TP,FP,TN,FN -------------------------------------\n",
      "True  Positive :  2246\n",
      "False Positive :  7427\n",
      "True  Negative :  25992\n",
      "False Negative :  7905\n",
      "Number of Correct Predictions   (TP + TN) :  28238\n",
      "Number of Incorrect Predictions (FP + FN) :  15332\n",
      "\n",
      "----------------- Precision/Recall/F1-Score -----------------------\n",
      "Precision          :  0.2322\n",
      "Recall/Sensitivity :  0.2213\n",
      "F1 Score           :  0.2266\n",
      "\n",
      "----------------- Classification Report ---------------------------\n",
      "              precision    recall  f1-score   support\n",
      "\n",
      "           0       0.77      0.78      0.77     33419\n",
      "           1       0.23      0.22      0.23     10151\n",
      "\n",
      "    accuracy                           0.65     43570\n",
      "   macro avg       0.50      0.50      0.50     43570\n",
      "weighted avg       0.64      0.65      0.65     43570\n",
      "\n",
      "\n",
      "----------------- ROC Curve ---------------------------------------\n"
     ]
    },
    {
     "data": {
      "image/png": "[encoded data removed]",
      "text/plain": [
       "<Figure size 432x288 with 1 Axes>"
      ]
     },
     "metadata": {
      "needs_background": "light"
     },
     "output_type": "display_data"
    },
    {
     "name": "stdout",
     "output_type": "stream",
     "text": [
      "\n",
      "----------------- ROC AUC Score -----------------------------------\n",
      "ROC AUC Score :  0.5026\n"
     ]
    }
   ],
   "source": [
    "# Instantiate Model\n",
    "clf = LogisticRegression()\n",
    "\n",
    "# Fit training data\n",
    "clf.fit(df_X_train, df_y_train)\n",
    "\n",
    "# Get the predictions\n",
    "arr_y_pred = clf.predict(df_X_test)\n",
    "#arr_y_pred_gb\n",
    "\n",
    "# Get the prediction probabilities\n",
    "arr_y_pred_proba = clf.predict_proba(df_X_test)\n",
    "#arr_y_pred_proba_gb\n",
    "\n",
    "# Default probability\n",
    "arr_y_pred_proba_def = arr_y_pred_proba[:,1]\n",
    "#arr_y_pred_proba_def\n",
    "\n",
    "get_evaluation_matrices(df_y_test, arr_y_pred, arr_y_pred_proba_def)"
   ]
  },
  {
   "cell_type": "markdown",
   "metadata": {},
   "source": [
    "### Model-2 : GradientBoostingClassifier"
   ]
  },
  {
   "cell_type": "code",
   "execution_count": 19,
   "metadata": {},
   "outputs": [
    {
     "name": "stdout",
     "output_type": "stream",
     "text": [
      "----------------- Accuracy Score ----------------------------------\n",
      "Accuracy Score :  0.7811\n",
      "\n",
      "----------------- Confusion Matrix --------------------------------\n",
      "[[32032  1387]\n",
      " [ 8152  1999]]\n",
      "\n",
      "----------------- TP,FP,TN,FN -------------------------------------\n",
      "True  Positive :  1999\n",
      "False Positive :  1387\n",
      "True  Negative :  32032\n",
      "False Negative :  8152\n",
      "Number of Correct Predictions   (TP + TN) :  34031\n",
      "Number of Incorrect Predictions (FP + FN) :  9539\n",
      "\n",
      "----------------- Precision/Recall/F1-Score -----------------------\n",
      "Precision          :  0.5904\n",
      "Recall/Sensitivity :  0.1969\n",
      "F1 Score           :  0.2953\n",
      "\n",
      "----------------- Classification Report ---------------------------\n",
      "              precision    recall  f1-score   support\n",
      "\n",
      "           0       0.80      0.96      0.87     33419\n",
      "           1       0.59      0.20      0.30     10151\n",
      "\n",
      "    accuracy                           0.78     43570\n",
      "   macro avg       0.69      0.58      0.58     43570\n",
      "weighted avg       0.75      0.78      0.74     43570\n",
      "\n",
      "\n",
      "----------------- ROC Curve ---------------------------------------\n"
     ]
    },
    {
     "data": {
      "image/png": "[encoded data removed]",
      "text/plain": [
       "<Figure size 432x288 with 1 Axes>"
      ]
     },
     "metadata": {
      "needs_background": "light"
     },
     "output_type": "display_data"
    },
    {
     "name": "stdout",
     "output_type": "stream",
     "text": [
      "\n",
      "----------------- ROC AUC Score -----------------------------------\n",
      "ROC AUC Score :  0.742\n"
     ]
    }
   ],
   "source": [
    "# Instantiate Model\n",
    "clf = GradientBoostingClassifier()\n",
    "\n",
    "# Fit training data\n",
    "clf.fit(df_X_train, df_y_train)\n",
    "\n",
    "# Get the predictions\n",
    "arr_y_pred = clf.predict(df_X_test)\n",
    "#arr_y_pred_gb\n",
    "\n",
    "# Get the prediction probabilities\n",
    "arr_y_pred_proba = clf.predict_proba(df_X_test)\n",
    "#arr_y_pred_proba_gb\n",
    "\n",
    "# Default probability\n",
    "arr_y_pred_proba_def = arr_y_pred_proba[:,1]\n",
    "#arr_y_pred_proba_def\n",
    "\n",
    "get_evaluation_matrices(df_y_test, arr_y_pred, arr_y_pred_proba_def)"
   ]
  },
  {
   "cell_type": "markdown",
   "metadata": {},
   "source": [
    "## Model-3 : RandomForestClassifier"
   ]
  },
  {
   "cell_type": "code",
   "execution_count": 21,
   "metadata": {},
   "outputs": [
    {
     "name": "stdout",
     "output_type": "stream",
     "text": [
      "----------------- Accuracy Score ----------------------------------\n",
      "Accuracy Score :  0.781\n",
      "\n",
      "----------------- Confusion Matrix --------------------------------\n",
      "[[32105  1314]\n",
      " [ 8228  1923]]\n",
      "\n",
      "----------------- TP,FP,TN,FN -------------------------------------\n",
      "True  Positive :  1923\n",
      "False Positive :  1314\n",
      "True  Negative :  32105\n",
      "False Negative :  8228\n",
      "Number of Correct Predictions   (TP + TN) :  34028\n",
      "Number of Incorrect Predictions (FP + FN) :  9542\n",
      "\n",
      "----------------- Precision/Recall/F1-Score -----------------------\n",
      "Precision          :  0.5941\n",
      "Recall/Sensitivity :  0.1894\n",
      "F1 Score           :  0.2873\n",
      "\n",
      "----------------- Classification Report ---------------------------\n",
      "              precision    recall  f1-score   support\n",
      "\n",
      "           0       0.80      0.96      0.87     33419\n",
      "           1       0.59      0.19      0.29     10151\n",
      "\n",
      "    accuracy                           0.78     43570\n",
      "   macro avg       0.70      0.58      0.58     43570\n",
      "weighted avg       0.75      0.78      0.73     43570\n",
      "\n",
      "\n",
      "----------------- ROC Curve ---------------------------------------\n"
     ]
    },
    {
     "data": {
      "image/png": "[encoded data removed]",
      "text/plain": [
       "<Figure size 432x288 with 1 Axes>"
      ]
     },
     "metadata": {
      "needs_background": "light"
     },
     "output_type": "display_data"
    },
    {
     "name": "stdout",
     "output_type": "stream",
     "text": [
      "\n",
      "----------------- ROC AUC Score -----------------------------------\n",
      "ROC AUC Score :  0.733\n"
     ]
    }
   ],
   "source": [
    "# Instantiate Model\n",
    "clf = RandomForestClassifier()\n",
    "\n",
    "# Fit training data\n",
    "clf.fit(df_X_train, df_y_train)\n",
    "\n",
    "# Get the predictions\n",
    "arr_y_pred = clf.predict(df_X_test)\n",
    "#arr_y_pred_gb\n",
    "\n",
    "# Get the prediction probabilities\n",
    "arr_y_pred_proba = clf.predict_proba(df_X_test)\n",
    "#arr_y_pred_proba_gb\n",
    "\n",
    "# Default probability\n",
    "arr_y_pred_proba_def = arr_y_pred_proba[:,1]\n",
    "#arr_y_pred_proba_def\n",
    "\n",
    "get_evaluation_matrices(df_y_test, arr_y_pred, arr_y_pred_proba_def)"
   ]
  },
  {
   "cell_type": "markdown",
   "metadata": {},
   "source": [
    "### Predict Submission Set"
   ]
  },
  {
   "cell_type": "code",
   "execution_count": 22,
   "metadata": {},
   "outputs": [
    {
     "data": {
      "text/plain": [
       "(145232, 2)"
      ]
     },
     "execution_count": 22,
     "metadata": {},
     "output_type": "execute_result"
    }
   ],
   "source": [
    "df_submission = pd.read_csv(sDir + 'sample_submission.csv')\n",
    "df_submission.shape"
   ]
  },
  {
   "cell_type": "code",
   "execution_count": 23,
   "metadata": {},
   "outputs": [
    {
     "data": {
      "text/plain": [
       "145232"
      ]
     },
     "execution_count": 23,
     "metadata": {},
     "output_type": "execute_result"
    }
   ],
   "source": [
    "# Get the predictions\n",
    "arr_target = clf.predict(df_test[idxKbestFeatrs])\n",
    "len(arr_target)"
   ]
  },
  {
   "cell_type": "code",
   "execution_count": 24,
   "metadata": {},
   "outputs": [],
   "source": [
    "df_submission['target'] = arr_target"
   ]
  },
  {
   "cell_type": "code",
   "execution_count": 25,
   "metadata": {},
   "outputs": [
    {
     "data": {
      "text/html": [
       "<div>\n",
       "<style scoped>\n",
       "    .dataframe tbody tr th:only-of-type {\n",
       "        vertical-align: middle;\n",
       "    }\n",
       "\n",
       "    .dataframe tbody tr th {\n",
       "        vertical-align: top;\n",
       "    }\n",
       "\n",
       "    .dataframe thead th {\n",
       "        text-align: right;\n",
       "    }\n",
       "</style>\n",
       "<table border=\"1\" class=\"dataframe\">\n",
       "  <thead>\n",
       "    <tr style=\"text-align: right;\">\n",
       "      <th></th>\n",
       "      <th>ID</th>\n",
       "      <th>target</th>\n",
       "    </tr>\n",
       "  </thead>\n",
       "  <tbody>\n",
       "    <tr>\n",
       "      <td>0</td>\n",
       "      <td>1</td>\n",
       "      <td>0</td>\n",
       "    </tr>\n",
       "    <tr>\n",
       "      <td>1</td>\n",
       "      <td>3</td>\n",
       "      <td>1</td>\n",
       "    </tr>\n",
       "    <tr>\n",
       "      <td>2</td>\n",
       "      <td>6</td>\n",
       "      <td>0</td>\n",
       "    </tr>\n",
       "    <tr>\n",
       "      <td>3</td>\n",
       "      <td>9</td>\n",
       "      <td>0</td>\n",
       "    </tr>\n",
       "    <tr>\n",
       "      <td>4</td>\n",
       "      <td>10</td>\n",
       "      <td>0</td>\n",
       "    </tr>\n",
       "  </tbody>\n",
       "</table>\n",
       "</div>"
      ],
      "text/plain": [
       "   ID  target\n",
       "0   1       0\n",
       "1   3       1\n",
       "2   6       0\n",
       "3   9       0\n",
       "4  10       0"
      ]
     },
     "execution_count": 25,
     "metadata": {},
     "output_type": "execute_result"
    }
   ],
   "source": [
    "df_submission.head()"
   ]
  },
  {
   "cell_type": "code",
   "execution_count": 27,
   "metadata": {},
   "outputs": [],
   "source": [
    "df_submission.to_csv(sDir + 'submission.csv', index=False)"
   ]
  }
 ],
 "metadata": {
  "kernelspec": {
   "display_name": "Python 3 (ipykernel)",
   "language": "python",
   "name": "python3"
  },
  "language_info": {
   "codemirror_mode": {
    "name": "ipython",
    "version": 3
   },
   "file_extension": ".py",
   "mimetype": "text/x-python",
   "name": "python",
   "nbconvert_exporter": "python",
   "pygments_lexer": "ipython3",
   "version": "3.11.5"
  }
 },
 "nbformat": 4,
 "nbformat_minor": 2
}
